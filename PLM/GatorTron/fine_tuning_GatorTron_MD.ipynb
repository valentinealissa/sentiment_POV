{
 "cells": [
  {
   "cell_type": "code",
   "execution_count": 11,
   "metadata": {
    "pycharm": {
     "name": "#%%\n"
    }
   },
   "outputs": [],
   "source": [
    "from datasets import DatasetDict, Dataset\n",
    "from transformers import AutoTokenizer, AutoModelForSequenceClassification, TrainingArguments, Trainer, \\\n",
    "    DataCollatorWithPadding, EarlyStoppingCallback, set_seed\n",
    "from pathlib import Path\n",
    "import numpy as np\n",
    "import evaluate\n",
    "import torch\n",
    "from pynvml import *\n",
    "from sklearn.model_selection import ParameterGrid\n",
    "from sklearn.metrics import classification_report\n",
    "import random\n",
    "import argparse\n",
    "import sys\n",
    "import shutil\n",
    "import pandas as pd\n",
    "\n",
    "def print_gpu_utilization():\n",
    "    nvmlInit()\n",
    "    handle = nvmlDeviceGetHandleByIndex(0)\n",
    "    info = nvmlDeviceGetMemoryInfo(handle)\n",
    "    print(f\"GPU memory occupied: {info.used // 1024 ** 2} MB.\")\n",
    "\n",
    "\n",
    "def print_summary(result):\n",
    "    print(f\"Time: {result.metrics['train_runtime']:.2f}\")\n",
    "    print(f\"Samples/second: {result.metrics['train_samples_per_second']:.2f}\")\n",
    "    print_gpu_utilization()\n",
    "\n",
    "\n",
    "def tokenize_function(examples):\n",
    "    return tokenizer(examples['sentence'], truncation=True, max_length=128)\n",
    "\n",
    "\n",
    "def compute_metrics(eval_pred):\n",
    "    logits, labels = eval_pred\n",
    "    predictions = np.argmax(logits, axis=-1)\n",
    "    scmetrics.add_batch(predictions=predictions, references=labels)\n",
    "    return scmetrics.compute()\n",
    "\n",
    "\n",
    "def create_labels(sentiment):\n",
    "    labels = []\n",
    "    for s in sentiment:\n",
    "        if s == 'neutral':\n",
    "            labels += [0]\n",
    "        elif s == 'negative':\n",
    "            labels += [1]\n",
    "        else:\n",
    "            labels += [2]\n",
    "    return labels"
   ]
  },
  {
   "cell_type": "code",
   "execution_count": 7,
   "metadata": {
    "pycharm": {
     "name": "#%%\n"
    }
   },
   "outputs": [
    {
     "name": "stdout",
     "output_type": "stream",
     "text": [
      "DatasetDict({\n",
      "    train: Dataset({\n",
      "        features: ['sentence', 'sentiment', 'label'],\n",
      "        num_rows: 23\n",
      "    })\n",
      "    dev: Dataset({\n",
      "        features: ['sentence', 'sentiment', 'label'],\n",
      "        num_rows: 10\n",
      "    })\n",
      "    test: Dataset({\n",
      "        features: ['sentence', 'sentiment', 'label'],\n",
      "        num_rows: 15\n",
      "    })\n",
      "})\n"
     ]
    }
   ],
   "source": [
    "MODEL =  \"UFNLP/gatortron-base\"\n",
    "\n",
    "# set seed\n",
    "seed = 42\n",
    "random.seed(42)\n",
    "np.random.seed(42)\n",
    "set_seed(seed)\n",
    "agreement = \"60\"\n",
    "\n",
    "train = pd.read_csv(f'~/azure_gpt/data/test_{agreement}.csv', header=0)\n",
    "train = train[[\"language\", \"MD_label\"]]\n",
    "train = Dataset.from_pandas(train).rename_columns({'language': 'sentence', \"MD_label\": 'sentiment'})\n",
    "train = train.add_column('label', create_labels(train['sentiment']))\n",
    "\n",
    "valid = pd.read_csv(f'~/azure_gpt/data/train_{agreement}.csv', header=0)\n",
    "valid = valid[[\"language\", \"MD_label\"]]\n",
    "valid = Dataset.from_pandas(valid).rename_columns({'language': 'sentence', \"MD_label\": 'sentiment'})\n",
    "valid = valid.add_column('label', create_labels(valid['sentiment']))\n",
    "\n",
    "test = pd.read_csv(f'~/azure_gpt/data/validation_sentences.csv', header=0)\n",
    "test = test[[\"language\", \"MD_label\"]]\n",
    "test = Dataset.from_pandas(test).rename_columns({'language': 'sentence', \"MD_label\": 'sentiment'})\n",
    "test = test.add_column('label', create_labels(test['sentiment']))\n",
    "\n",
    "label_dt = DatasetDict({\n",
    "    'train': train,\n",
    "    'dev': valid,\n",
    "    'test': test})\n",
    "\n",
    "print(label_dt)"
   ]
  },
  {
   "cell_type": "code",
   "execution_count": 8,
   "metadata": {
    "pycharm": {
     "name": "#%%\n"
    }
   },
   "outputs": [
    {
     "data": {
      "application/vnd.jupyter.widget-view+json": {
       "model_id": "fce593e940b1491b90da3d69652697de",
       "version_major": 2,
       "version_minor": 0
      },
      "text/plain": [
       "Map (num_proc=4):   0%|          | 0/23 [00:00<?, ? examples/s]"
      ]
     },
     "metadata": {},
     "output_type": "display_data"
    },
    {
     "data": {
      "application/vnd.jupyter.widget-view+json": {
       "model_id": "2848ea5ce4fb43e392b5cb4d94a58949",
       "version_major": 2,
       "version_minor": 0
      },
      "text/plain": [
       "Map (num_proc=4):   0%|          | 0/10 [00:00<?, ? examples/s]"
      ]
     },
     "metadata": {},
     "output_type": "display_data"
    },
    {
     "data": {
      "application/vnd.jupyter.widget-view+json": {
       "model_id": "c74d95cb2c454577af78b2409b78855a",
       "version_major": 2,
       "version_minor": 0
      },
      "text/plain": [
       "Map (num_proc=4):   0%|          | 0/15 [00:00<?, ? examples/s]"
      ]
     },
     "metadata": {},
     "output_type": "display_data"
    }
   ],
   "source": [
    "tokenizer = AutoTokenizer.from_pretrained(\"UFNLP/gatortron-base\")\n",
    "tkn_dt = label_dt.map(tokenize_function, batched=True, num_proc=4)\n",
    "data_collator = DataCollatorWithPadding(tokenizer=tokenizer)"
   ]
  },
  {
   "cell_type": "code",
   "execution_count": 9,
   "metadata": {
    "pycharm": {
     "name": "#%%\n"
    }
   },
   "outputs": [
    {
     "name": "stderr",
     "output_type": "stream",
     "text": [
      "Some weights of the model checkpoint at UFNLP/gatortron-base were not used when initializing MegatronBertForSequenceClassification: ['cls.seq_relationship.weight', 'cls.seq_relationship.bias', 'cls.predictions.bias', 'cls.predictions.transform.dense.weight', 'cls.predictions.transform.dense.bias', 'cls.predictions.decoder.weight', 'cls.predictions.transform.LayerNorm.bias', 'cls.predictions.transform.LayerNorm.weight']\n",
      "- This IS expected if you are initializing MegatronBertForSequenceClassification from the checkpoint of a model trained on another task or with another architecture (e.g. initializing a BertForSequenceClassification model from a BertForPreTraining model).\n",
      "- This IS NOT expected if you are initializing MegatronBertForSequenceClassification from the checkpoint of a model that you expect to be exactly identical (initializing a BertForSequenceClassification model from a BertForSequenceClassification model).\n",
      "Some weights of MegatronBertForSequenceClassification were not initialized from the model checkpoint at UFNLP/gatortron-base and are newly initialized: ['classifier.weight', 'classifier.bias']\n",
      "You should probably TRAIN this model on a down-stream task to be able to use it for predictions and inference.\n"
     ]
    }
   ],
   "source": [
    "if torch.cuda.is_available():\n",
    "    torch.cuda.manual_seed_all(42)\n",
    "model = AutoModelForSequenceClassification.from_pretrained(\n",
    "    MODEL, num_labels=3)\n",
    "if torch.cuda.is_available():\n",
    "    model.to('cuda') # put the model on the gpu once, and then add a batch everytime when doing a training or evaluation loop\n",
    "    print_gpu_utilization()"
   ]
  },
  {
   "cell_type": "code",
   "execution_count": 10,
   "metadata": {
    "pycharm": {
     "name": "#%%\n"
    }
   },
   "outputs": [
    {
     "name": "stderr",
     "output_type": "stream",
     "text": [
      "/Users/valena17/psych_nlp/psych_note_venv/lib/python3.8/site-packages/transformers/optimization.py:407: FutureWarning: This implementation of AdamW is deprecated and will be removed in a future version. Use the PyTorch implementation torch.optim.AdamW instead, or set `no_deprecation_warning=True` to disable this warning\n",
      "  warnings.warn(\n",
      "You're using a BertTokenizerFast tokenizer. Please note that with a fast tokenizer, using the `__call__` method is faster than using a method to encode the text followed by a call to the `pad` method to get a padded encoding.\n"
     ]
    },
    {
     "name": "stdout",
     "output_type": "stream",
     "text": [
      "Parameters: {'batch_size': 4, 'epochs': 2, 'learning_rate': 5e-06, 'warmup_ratio': 0, 'weight_decay': 0}\n"
     ]
    },
    {
     "data": {
      "text/html": [
       "\n",
       "    <div>\n",
       "      \n",
       "      <progress value='2' max='12' style='width:300px; height:20px; vertical-align: middle;'></progress>\n",
       "      [ 2/12 : < :, Epoch 0.17/2]\n",
       "    </div>\n",
       "    <table border=\"1\" class=\"dataframe\">\n",
       "  <thead>\n",
       " <tr style=\"text-align: left;\">\n",
       "      <th>Epoch</th>\n",
       "      <th>Training Loss</th>\n",
       "      <th>Validation Loss</th>\n",
       "    </tr>\n",
       "  </thead>\n",
       "  <tbody>\n",
       "  </tbody>\n",
       "</table><p>"
      ],
      "text/plain": [
       "<IPython.core.display.HTML object>"
      ]
     },
     "metadata": {},
     "output_type": "display_data"
    },
    {
     "name": "stdout",
     "output_type": "stream",
     "text": [
      "              precision    recall  f1-score   support\n",
      "\n",
      "           0       0.20      0.25      0.22         4\n",
      "           1       0.40      0.50      0.44         4\n",
      "           2       0.00      0.00      0.00         2\n",
      "\n",
      "    accuracy                           0.30        10\n",
      "   macro avg       0.20      0.25      0.22        10\n",
      "weighted avg       0.24      0.30      0.27        10\n",
      "\n"
     ]
    },
    {
     "name": "stderr",
     "output_type": "stream",
     "text": [
      "/Users/valena17/psych_nlp/psych_note_venv/lib/python3.8/site-packages/sklearn/metrics/_classification.py:1334: UndefinedMetricWarning: Precision is ill-defined and being set to 0.0 in labels with no predicted samples. Use `zero_division` parameter to control this behavior.\n",
      "  _warn_prf(average, modifier, msg_start, len(result))\n",
      "/Users/valena17/psych_nlp/psych_note_venv/lib/python3.8/site-packages/sklearn/metrics/_classification.py:1334: UndefinedMetricWarning: Precision and F-score are ill-defined and being set to 0.0 in labels with no predicted samples. Use `zero_division` parameter to control this behavior.\n",
      "  _warn_prf(average, modifier, msg_start, len(result))\n",
      "/Users/valena17/psych_nlp/psych_note_venv/lib/python3.8/site-packages/sklearn/metrics/_classification.py:1334: UndefinedMetricWarning: Precision and F-score are ill-defined and being set to 0.0 in labels with no predicted samples. Use `zero_division` parameter to control this behavior.\n",
      "  _warn_prf(average, modifier, msg_start, len(result))\n",
      "/Users/valena17/psych_nlp/psych_note_venv/lib/python3.8/site-packages/sklearn/metrics/_classification.py:1334: UndefinedMetricWarning: Precision and F-score are ill-defined and being set to 0.0 in labels with no predicted samples. Use `zero_division` parameter to control this behavior.\n",
      "  _warn_prf(average, modifier, msg_start, len(result))\n"
     ]
    },
    {
     "name": "stdout",
     "output_type": "stream",
     "text": [
      "              precision    recall  f1-score   support\n",
      "\n",
      "           0       0.33      0.50      0.40         4\n",
      "           1       0.50      0.50      0.50         4\n",
      "           2       0.00      0.00      0.00         2\n",
      "\n",
      "    accuracy                           0.40        10\n",
      "   macro avg       0.28      0.33      0.30        10\n",
      "weighted avg       0.33      0.40      0.36        10\n",
      "\n"
     ]
    },
    {
     "name": "stderr",
     "output_type": "stream",
     "text": [
      "/Users/valena17/psych_nlp/psych_note_venv/lib/python3.8/site-packages/sklearn/metrics/_classification.py:1334: UndefinedMetricWarning: Precision is ill-defined and being set to 0.0 in labels with no predicted samples. Use `zero_division` parameter to control this behavior.\n",
      "  _warn_prf(average, modifier, msg_start, len(result))\n",
      "/Users/valena17/psych_nlp/psych_note_venv/lib/python3.8/site-packages/sklearn/metrics/_classification.py:1334: UndefinedMetricWarning: Precision and F-score are ill-defined and being set to 0.0 in labels with no predicted samples. Use `zero_division` parameter to control this behavior.\n",
      "  _warn_prf(average, modifier, msg_start, len(result))\n",
      "/Users/valena17/psych_nlp/psych_note_venv/lib/python3.8/site-packages/sklearn/metrics/_classification.py:1334: UndefinedMetricWarning: Precision and F-score are ill-defined and being set to 0.0 in labels with no predicted samples. Use `zero_division` parameter to control this behavior.\n",
      "  _warn_prf(average, modifier, msg_start, len(result))\n",
      "/Users/valena17/psych_nlp/psych_note_venv/lib/python3.8/site-packages/sklearn/metrics/_classification.py:1334: UndefinedMetricWarning: Precision and F-score are ill-defined and being set to 0.0 in labels with no predicted samples. Use `zero_division` parameter to control this behavior.\n",
      "  _warn_prf(average, modifier, msg_start, len(result))\n"
     ]
    },
    {
     "data": {
      "text/html": [
       "\n",
       "    <div>\n",
       "      \n",
       "      <progress value='1' max='3' style='width:300px; height:20px; vertical-align: middle;'></progress>\n",
       "      [1/3 : < :]\n",
       "    </div>\n",
       "    "
      ],
      "text/plain": [
       "<IPython.core.display.HTML object>"
      ]
     },
     "metadata": {},
     "output_type": "display_data"
    },
    {
     "name": "stderr",
     "output_type": "stream",
     "text": [
      "/Users/valena17/psych_nlp/psych_note_venv/lib/python3.8/site-packages/sklearn/metrics/_classification.py:1334: UndefinedMetricWarning: Precision is ill-defined and being set to 0.0 in labels with no predicted samples. Use `zero_division` parameter to control this behavior.\n",
      "  _warn_prf(average, modifier, msg_start, len(result))\n",
      "/Users/valena17/psych_nlp/psych_note_venv/lib/python3.8/site-packages/sklearn/metrics/_classification.py:1334: UndefinedMetricWarning: Precision and F-score are ill-defined and being set to 0.0 in labels with no predicted samples. Use `zero_division` parameter to control this behavior.\n",
      "  _warn_prf(average, modifier, msg_start, len(result))\n",
      "/Users/valena17/psych_nlp/psych_note_venv/lib/python3.8/site-packages/sklearn/metrics/_classification.py:1334: UndefinedMetricWarning: Precision and F-score are ill-defined and being set to 0.0 in labels with no predicted samples. Use `zero_division` parameter to control this behavior.\n",
      "  _warn_prf(average, modifier, msg_start, len(result))\n",
      "/Users/valena17/psych_nlp/psych_note_venv/lib/python3.8/site-packages/sklearn/metrics/_classification.py:1334: UndefinedMetricWarning: Precision and F-score are ill-defined and being set to 0.0 in labels with no predicted samples. Use `zero_division` parameter to control this behavior.\n",
      "  _warn_prf(average, modifier, msg_start, len(result))\n",
      "/Users/valena17/psych_nlp/psych_note_venv/lib/python3.8/site-packages/transformers/optimization.py:407: FutureWarning: This implementation of AdamW is deprecated and will be removed in a future version. Use the PyTorch implementation torch.optim.AdamW instead, or set `no_deprecation_warning=True` to disable this warning\n",
      "  warnings.warn(\n"
     ]
    },
    {
     "name": "stdout",
     "output_type": "stream",
     "text": [
      "              precision    recall  f1-score   support\n",
      "\n",
      "           0       0.33      0.50      0.40         4\n",
      "           1       0.50      0.50      0.50         4\n",
      "           2       0.00      0.00      0.00         2\n",
      "\n",
      "    accuracy                           0.40        10\n",
      "   macro avg       0.28      0.33      0.30        10\n",
      "weighted avg       0.33      0.40      0.36        10\n",
      "\n",
      "----------------------------------------------------------------------------------------------------\n",
      "\n",
      "\n",
      "\n",
      "Parameters: {'batch_size': 4, 'epochs': 2, 'learning_rate': 5e-06, 'warmup_ratio': 0, 'weight_decay': 0.1}\n"
     ]
    },
    {
     "data": {
      "text/html": [
       "\n",
       "    <div>\n",
       "      \n",
       "      <progress value='2' max='12' style='width:300px; height:20px; vertical-align: middle;'></progress>\n",
       "      [ 2/12 : < :, Epoch 0.17/2]\n",
       "    </div>\n",
       "    <table border=\"1\" class=\"dataframe\">\n",
       "  <thead>\n",
       " <tr style=\"text-align: left;\">\n",
       "      <th>Epoch</th>\n",
       "      <th>Training Loss</th>\n",
       "      <th>Validation Loss</th>\n",
       "    </tr>\n",
       "  </thead>\n",
       "  <tbody>\n",
       "  </tbody>\n",
       "</table><p>"
      ],
      "text/plain": [
       "<IPython.core.display.HTML object>"
      ]
     },
     "metadata": {},
     "output_type": "display_data"
    },
    {
     "name": "stdout",
     "output_type": "stream",
     "text": [
      "              precision    recall  f1-score   support\n",
      "\n",
      "           0       0.33      0.50      0.40         4\n",
      "           1       0.50      0.50      0.50         4\n",
      "           2       0.00      0.00      0.00         2\n",
      "\n",
      "    accuracy                           0.40        10\n",
      "   macro avg       0.28      0.33      0.30        10\n",
      "weighted avg       0.33      0.40      0.36        10\n",
      "\n"
     ]
    },
    {
     "name": "stderr",
     "output_type": "stream",
     "text": [
      "/Users/valena17/psych_nlp/psych_note_venv/lib/python3.8/site-packages/sklearn/metrics/_classification.py:1334: UndefinedMetricWarning: Precision is ill-defined and being set to 0.0 in labels with no predicted samples. Use `zero_division` parameter to control this behavior.\n",
      "  _warn_prf(average, modifier, msg_start, len(result))\n",
      "/Users/valena17/psych_nlp/psych_note_venv/lib/python3.8/site-packages/sklearn/metrics/_classification.py:1334: UndefinedMetricWarning: Precision and F-score are ill-defined and being set to 0.0 in labels with no predicted samples. Use `zero_division` parameter to control this behavior.\n",
      "  _warn_prf(average, modifier, msg_start, len(result))\n",
      "/Users/valena17/psych_nlp/psych_note_venv/lib/python3.8/site-packages/sklearn/metrics/_classification.py:1334: UndefinedMetricWarning: Precision and F-score are ill-defined and being set to 0.0 in labels with no predicted samples. Use `zero_division` parameter to control this behavior.\n",
      "  _warn_prf(average, modifier, msg_start, len(result))\n",
      "/Users/valena17/psych_nlp/psych_note_venv/lib/python3.8/site-packages/sklearn/metrics/_classification.py:1334: UndefinedMetricWarning: Precision and F-score are ill-defined and being set to 0.0 in labels with no predicted samples. Use `zero_division` parameter to control this behavior.\n",
      "  _warn_prf(average, modifier, msg_start, len(result))\n"
     ]
    },
    {
     "name": "stdout",
     "output_type": "stream",
     "text": [
      "              precision    recall  f1-score   support\n",
      "\n",
      "           0       0.33      0.50      0.40         4\n",
      "           1       0.50      0.50      0.50         4\n",
      "           2       0.00      0.00      0.00         2\n",
      "\n",
      "    accuracy                           0.40        10\n",
      "   macro avg       0.28      0.33      0.30        10\n",
      "weighted avg       0.33      0.40      0.36        10\n",
      "\n"
     ]
    },
    {
     "name": "stderr",
     "output_type": "stream",
     "text": [
      "/Users/valena17/psych_nlp/psych_note_venv/lib/python3.8/site-packages/sklearn/metrics/_classification.py:1334: UndefinedMetricWarning: Precision is ill-defined and being set to 0.0 in labels with no predicted samples. Use `zero_division` parameter to control this behavior.\n",
      "  _warn_prf(average, modifier, msg_start, len(result))\n",
      "/Users/valena17/psych_nlp/psych_note_venv/lib/python3.8/site-packages/sklearn/metrics/_classification.py:1334: UndefinedMetricWarning: Precision and F-score are ill-defined and being set to 0.0 in labels with no predicted samples. Use `zero_division` parameter to control this behavior.\n",
      "  _warn_prf(average, modifier, msg_start, len(result))\n",
      "/Users/valena17/psych_nlp/psych_note_venv/lib/python3.8/site-packages/sklearn/metrics/_classification.py:1334: UndefinedMetricWarning: Precision and F-score are ill-defined and being set to 0.0 in labels with no predicted samples. Use `zero_division` parameter to control this behavior.\n",
      "  _warn_prf(average, modifier, msg_start, len(result))\n",
      "/Users/valena17/psych_nlp/psych_note_venv/lib/python3.8/site-packages/sklearn/metrics/_classification.py:1334: UndefinedMetricWarning: Precision and F-score are ill-defined and being set to 0.0 in labels with no predicted samples. Use `zero_division` parameter to control this behavior.\n",
      "  _warn_prf(average, modifier, msg_start, len(result))\n"
     ]
    },
    {
     "data": {
      "text/html": [
       "\n",
       "    <div>\n",
       "      \n",
       "      <progress value='1' max='3' style='width:300px; height:20px; vertical-align: middle;'></progress>\n",
       "      [1/3 : < :]\n",
       "    </div>\n",
       "    "
      ],
      "text/plain": [
       "<IPython.core.display.HTML object>"
      ]
     },
     "metadata": {},
     "output_type": "display_data"
    },
    {
     "name": "stderr",
     "output_type": "stream",
     "text": [
      "/Users/valena17/psych_nlp/psych_note_venv/lib/python3.8/site-packages/sklearn/metrics/_classification.py:1334: UndefinedMetricWarning: Precision is ill-defined and being set to 0.0 in labels with no predicted samples. Use `zero_division` parameter to control this behavior.\n",
      "  _warn_prf(average, modifier, msg_start, len(result))\n",
      "/Users/valena17/psych_nlp/psych_note_venv/lib/python3.8/site-packages/sklearn/metrics/_classification.py:1334: UndefinedMetricWarning: Precision and F-score are ill-defined and being set to 0.0 in labels with no predicted samples. Use `zero_division` parameter to control this behavior.\n",
      "  _warn_prf(average, modifier, msg_start, len(result))\n",
      "/Users/valena17/psych_nlp/psych_note_venv/lib/python3.8/site-packages/sklearn/metrics/_classification.py:1334: UndefinedMetricWarning: Precision and F-score are ill-defined and being set to 0.0 in labels with no predicted samples. Use `zero_division` parameter to control this behavior.\n",
      "  _warn_prf(average, modifier, msg_start, len(result))\n",
      "/Users/valena17/psych_nlp/psych_note_venv/lib/python3.8/site-packages/sklearn/metrics/_classification.py:1334: UndefinedMetricWarning: Precision and F-score are ill-defined and being set to 0.0 in labels with no predicted samples. Use `zero_division` parameter to control this behavior.\n",
      "  _warn_prf(average, modifier, msg_start, len(result))\n",
      "/Users/valena17/psych_nlp/psych_note_venv/lib/python3.8/site-packages/transformers/optimization.py:407: FutureWarning: This implementation of AdamW is deprecated and will be removed in a future version. Use the PyTorch implementation torch.optim.AdamW instead, or set `no_deprecation_warning=True` to disable this warning\n",
      "  warnings.warn(\n"
     ]
    },
    {
     "name": "stdout",
     "output_type": "stream",
     "text": [
      "              precision    recall  f1-score   support\n",
      "\n",
      "           0       0.33      0.50      0.40         4\n",
      "           1       0.50      0.50      0.50         4\n",
      "           2       0.00      0.00      0.00         2\n",
      "\n",
      "    accuracy                           0.40        10\n",
      "   macro avg       0.28      0.33      0.30        10\n",
      "weighted avg       0.33      0.40      0.36        10\n",
      "\n",
      "----------------------------------------------------------------------------------------------------\n",
      "\n",
      "\n",
      "\n",
      "Parameters: {'batch_size': 4, 'epochs': 2, 'learning_rate': 5e-06, 'warmup_ratio': 0.1, 'weight_decay': 0}\n"
     ]
    },
    {
     "data": {
      "text/html": [
       "\n",
       "    <div>\n",
       "      \n",
       "      <progress value='2' max='12' style='width:300px; height:20px; vertical-align: middle;'></progress>\n",
       "      [ 2/12 : < :, Epoch 0.17/2]\n",
       "    </div>\n",
       "    <table border=\"1\" class=\"dataframe\">\n",
       "  <thead>\n",
       " <tr style=\"text-align: left;\">\n",
       "      <th>Epoch</th>\n",
       "      <th>Training Loss</th>\n",
       "      <th>Validation Loss</th>\n",
       "    </tr>\n",
       "  </thead>\n",
       "  <tbody>\n",
       "  </tbody>\n",
       "</table><p>"
      ],
      "text/plain": [
       "<IPython.core.display.HTML object>"
      ]
     },
     "metadata": {},
     "output_type": "display_data"
    },
    {
     "name": "stdout",
     "output_type": "stream",
     "text": [
      "              precision    recall  f1-score   support\n",
      "\n",
      "           0       0.33      0.50      0.40         4\n",
      "           1       0.50      0.50      0.50         4\n",
      "           2       0.00      0.00      0.00         2\n",
      "\n",
      "    accuracy                           0.40        10\n",
      "   macro avg       0.28      0.33      0.30        10\n",
      "weighted avg       0.33      0.40      0.36        10\n",
      "\n"
     ]
    },
    {
     "name": "stderr",
     "output_type": "stream",
     "text": [
      "/Users/valena17/psych_nlp/psych_note_venv/lib/python3.8/site-packages/sklearn/metrics/_classification.py:1334: UndefinedMetricWarning: Precision is ill-defined and being set to 0.0 in labels with no predicted samples. Use `zero_division` parameter to control this behavior.\n",
      "  _warn_prf(average, modifier, msg_start, len(result))\n",
      "/Users/valena17/psych_nlp/psych_note_venv/lib/python3.8/site-packages/sklearn/metrics/_classification.py:1334: UndefinedMetricWarning: Precision and F-score are ill-defined and being set to 0.0 in labels with no predicted samples. Use `zero_division` parameter to control this behavior.\n",
      "  _warn_prf(average, modifier, msg_start, len(result))\n",
      "/Users/valena17/psych_nlp/psych_note_venv/lib/python3.8/site-packages/sklearn/metrics/_classification.py:1334: UndefinedMetricWarning: Precision and F-score are ill-defined and being set to 0.0 in labels with no predicted samples. Use `zero_division` parameter to control this behavior.\n",
      "  _warn_prf(average, modifier, msg_start, len(result))\n",
      "/Users/valena17/psych_nlp/psych_note_venv/lib/python3.8/site-packages/sklearn/metrics/_classification.py:1334: UndefinedMetricWarning: Precision and F-score are ill-defined and being set to 0.0 in labels with no predicted samples. Use `zero_division` parameter to control this behavior.\n",
      "  _warn_prf(average, modifier, msg_start, len(result))\n"
     ]
    },
    {
     "name": "stdout",
     "output_type": "stream",
     "text": [
      "              precision    recall  f1-score   support\n",
      "\n",
      "           0       0.33      0.50      0.40         4\n",
      "           1       0.50      0.50      0.50         4\n",
      "           2       0.00      0.00      0.00         2\n",
      "\n",
      "    accuracy                           0.40        10\n",
      "   macro avg       0.28      0.33      0.30        10\n",
      "weighted avg       0.33      0.40      0.36        10\n",
      "\n"
     ]
    },
    {
     "name": "stderr",
     "output_type": "stream",
     "text": [
      "/Users/valena17/psych_nlp/psych_note_venv/lib/python3.8/site-packages/sklearn/metrics/_classification.py:1334: UndefinedMetricWarning: Precision is ill-defined and being set to 0.0 in labels with no predicted samples. Use `zero_division` parameter to control this behavior.\n",
      "  _warn_prf(average, modifier, msg_start, len(result))\n",
      "/Users/valena17/psych_nlp/psych_note_venv/lib/python3.8/site-packages/sklearn/metrics/_classification.py:1334: UndefinedMetricWarning: Precision and F-score are ill-defined and being set to 0.0 in labels with no predicted samples. Use `zero_division` parameter to control this behavior.\n",
      "  _warn_prf(average, modifier, msg_start, len(result))\n",
      "/Users/valena17/psych_nlp/psych_note_venv/lib/python3.8/site-packages/sklearn/metrics/_classification.py:1334: UndefinedMetricWarning: Precision and F-score are ill-defined and being set to 0.0 in labels with no predicted samples. Use `zero_division` parameter to control this behavior.\n",
      "  _warn_prf(average, modifier, msg_start, len(result))\n",
      "/Users/valena17/psych_nlp/psych_note_venv/lib/python3.8/site-packages/sklearn/metrics/_classification.py:1334: UndefinedMetricWarning: Precision and F-score are ill-defined and being set to 0.0 in labels with no predicted samples. Use `zero_division` parameter to control this behavior.\n",
      "  _warn_prf(average, modifier, msg_start, len(result))\n"
     ]
    },
    {
     "data": {
      "text/html": [
       "\n",
       "    <div>\n",
       "      \n",
       "      <progress value='1' max='3' style='width:300px; height:20px; vertical-align: middle;'></progress>\n",
       "      [1/3 : < :]\n",
       "    </div>\n",
       "    "
      ],
      "text/plain": [
       "<IPython.core.display.HTML object>"
      ]
     },
     "metadata": {},
     "output_type": "display_data"
    },
    {
     "name": "stderr",
     "output_type": "stream",
     "text": [
      "/Users/valena17/psych_nlp/psych_note_venv/lib/python3.8/site-packages/sklearn/metrics/_classification.py:1334: UndefinedMetricWarning: Precision is ill-defined and being set to 0.0 in labels with no predicted samples. Use `zero_division` parameter to control this behavior.\n",
      "  _warn_prf(average, modifier, msg_start, len(result))\n",
      "/Users/valena17/psych_nlp/psych_note_venv/lib/python3.8/site-packages/sklearn/metrics/_classification.py:1334: UndefinedMetricWarning: Precision and F-score are ill-defined and being set to 0.0 in labels with no predicted samples. Use `zero_division` parameter to control this behavior.\n",
      "  _warn_prf(average, modifier, msg_start, len(result))\n",
      "/Users/valena17/psych_nlp/psych_note_venv/lib/python3.8/site-packages/sklearn/metrics/_classification.py:1334: UndefinedMetricWarning: Precision and F-score are ill-defined and being set to 0.0 in labels with no predicted samples. Use `zero_division` parameter to control this behavior.\n",
      "  _warn_prf(average, modifier, msg_start, len(result))\n",
      "/Users/valena17/psych_nlp/psych_note_venv/lib/python3.8/site-packages/sklearn/metrics/_classification.py:1334: UndefinedMetricWarning: Precision and F-score are ill-defined and being set to 0.0 in labels with no predicted samples. Use `zero_division` parameter to control this behavior.\n",
      "  _warn_prf(average, modifier, msg_start, len(result))\n",
      "/Users/valena17/psych_nlp/psych_note_venv/lib/python3.8/site-packages/transformers/optimization.py:407: FutureWarning: This implementation of AdamW is deprecated and will be removed in a future version. Use the PyTorch implementation torch.optim.AdamW instead, or set `no_deprecation_warning=True` to disable this warning\n",
      "  warnings.warn(\n"
     ]
    },
    {
     "name": "stdout",
     "output_type": "stream",
     "text": [
      "              precision    recall  f1-score   support\n",
      "\n",
      "           0       0.33      0.50      0.40         4\n",
      "           1       0.50      0.50      0.50         4\n",
      "           2       0.00      0.00      0.00         2\n",
      "\n",
      "    accuracy                           0.40        10\n",
      "   macro avg       0.28      0.33      0.30        10\n",
      "weighted avg       0.33      0.40      0.36        10\n",
      "\n",
      "----------------------------------------------------------------------------------------------------\n",
      "\n",
      "\n",
      "\n",
      "Parameters: {'batch_size': 4, 'epochs': 2, 'learning_rate': 5e-06, 'warmup_ratio': 0.1, 'weight_decay': 0.1}\n"
     ]
    },
    {
     "data": {
      "text/html": [
       "\n",
       "    <div>\n",
       "      \n",
       "      <progress value='2' max='12' style='width:300px; height:20px; vertical-align: middle;'></progress>\n",
       "      [ 2/12 : < :, Epoch 0.17/2]\n",
       "    </div>\n",
       "    <table border=\"1\" class=\"dataframe\">\n",
       "  <thead>\n",
       " <tr style=\"text-align: left;\">\n",
       "      <th>Epoch</th>\n",
       "      <th>Training Loss</th>\n",
       "      <th>Validation Loss</th>\n",
       "    </tr>\n",
       "  </thead>\n",
       "  <tbody>\n",
       "  </tbody>\n",
       "</table><p>"
      ],
      "text/plain": [
       "<IPython.core.display.HTML object>"
      ]
     },
     "metadata": {},
     "output_type": "display_data"
    },
    {
     "name": "stdout",
     "output_type": "stream",
     "text": [
      "              precision    recall  f1-score   support\n",
      "\n",
      "           0       0.33      0.50      0.40         4\n",
      "           1       0.50      0.50      0.50         4\n",
      "           2       0.00      0.00      0.00         2\n",
      "\n",
      "    accuracy                           0.40        10\n",
      "   macro avg       0.28      0.33      0.30        10\n",
      "weighted avg       0.33      0.40      0.36        10\n",
      "\n"
     ]
    },
    {
     "name": "stderr",
     "output_type": "stream",
     "text": [
      "/Users/valena17/psych_nlp/psych_note_venv/lib/python3.8/site-packages/sklearn/metrics/_classification.py:1334: UndefinedMetricWarning: Precision is ill-defined and being set to 0.0 in labels with no predicted samples. Use `zero_division` parameter to control this behavior.\n",
      "  _warn_prf(average, modifier, msg_start, len(result))\n",
      "/Users/valena17/psych_nlp/psych_note_venv/lib/python3.8/site-packages/sklearn/metrics/_classification.py:1334: UndefinedMetricWarning: Precision and F-score are ill-defined and being set to 0.0 in labels with no predicted samples. Use `zero_division` parameter to control this behavior.\n",
      "  _warn_prf(average, modifier, msg_start, len(result))\n",
      "/Users/valena17/psych_nlp/psych_note_venv/lib/python3.8/site-packages/sklearn/metrics/_classification.py:1334: UndefinedMetricWarning: Precision and F-score are ill-defined and being set to 0.0 in labels with no predicted samples. Use `zero_division` parameter to control this behavior.\n",
      "  _warn_prf(average, modifier, msg_start, len(result))\n",
      "/Users/valena17/psych_nlp/psych_note_venv/lib/python3.8/site-packages/sklearn/metrics/_classification.py:1334: UndefinedMetricWarning: Precision and F-score are ill-defined and being set to 0.0 in labels with no predicted samples. Use `zero_division` parameter to control this behavior.\n",
      "  _warn_prf(average, modifier, msg_start, len(result))\n"
     ]
    },
    {
     "name": "stdout",
     "output_type": "stream",
     "text": [
      "              precision    recall  f1-score   support\n",
      "\n",
      "           0       0.33      0.50      0.40         4\n",
      "           1       0.50      0.50      0.50         4\n",
      "           2       0.00      0.00      0.00         2\n",
      "\n",
      "    accuracy                           0.40        10\n",
      "   macro avg       0.28      0.33      0.30        10\n",
      "weighted avg       0.33      0.40      0.36        10\n",
      "\n"
     ]
    },
    {
     "name": "stderr",
     "output_type": "stream",
     "text": [
      "/Users/valena17/psych_nlp/psych_note_venv/lib/python3.8/site-packages/sklearn/metrics/_classification.py:1334: UndefinedMetricWarning: Precision is ill-defined and being set to 0.0 in labels with no predicted samples. Use `zero_division` parameter to control this behavior.\n",
      "  _warn_prf(average, modifier, msg_start, len(result))\n",
      "/Users/valena17/psych_nlp/psych_note_venv/lib/python3.8/site-packages/sklearn/metrics/_classification.py:1334: UndefinedMetricWarning: Precision and F-score are ill-defined and being set to 0.0 in labels with no predicted samples. Use `zero_division` parameter to control this behavior.\n",
      "  _warn_prf(average, modifier, msg_start, len(result))\n",
      "/Users/valena17/psych_nlp/psych_note_venv/lib/python3.8/site-packages/sklearn/metrics/_classification.py:1334: UndefinedMetricWarning: Precision and F-score are ill-defined and being set to 0.0 in labels with no predicted samples. Use `zero_division` parameter to control this behavior.\n",
      "  _warn_prf(average, modifier, msg_start, len(result))\n",
      "/Users/valena17/psych_nlp/psych_note_venv/lib/python3.8/site-packages/sklearn/metrics/_classification.py:1334: UndefinedMetricWarning: Precision and F-score are ill-defined and being set to 0.0 in labels with no predicted samples. Use `zero_division` parameter to control this behavior.\n",
      "  _warn_prf(average, modifier, msg_start, len(result))\n"
     ]
    },
    {
     "data": {
      "text/html": [
       "\n",
       "    <div>\n",
       "      \n",
       "      <progress value='1' max='3' style='width:300px; height:20px; vertical-align: middle;'></progress>\n",
       "      [1/3 : < :]\n",
       "    </div>\n",
       "    "
      ],
      "text/plain": [
       "<IPython.core.display.HTML object>"
      ]
     },
     "metadata": {},
     "output_type": "display_data"
    },
    {
     "name": "stderr",
     "output_type": "stream",
     "text": [
      "/Users/valena17/psych_nlp/psych_note_venv/lib/python3.8/site-packages/sklearn/metrics/_classification.py:1334: UndefinedMetricWarning: Precision is ill-defined and being set to 0.0 in labels with no predicted samples. Use `zero_division` parameter to control this behavior.\n",
      "  _warn_prf(average, modifier, msg_start, len(result))\n",
      "/Users/valena17/psych_nlp/psych_note_venv/lib/python3.8/site-packages/sklearn/metrics/_classification.py:1334: UndefinedMetricWarning: Precision and F-score are ill-defined and being set to 0.0 in labels with no predicted samples. Use `zero_division` parameter to control this behavior.\n",
      "  _warn_prf(average, modifier, msg_start, len(result))\n",
      "/Users/valena17/psych_nlp/psych_note_venv/lib/python3.8/site-packages/sklearn/metrics/_classification.py:1334: UndefinedMetricWarning: Precision and F-score are ill-defined and being set to 0.0 in labels with no predicted samples. Use `zero_division` parameter to control this behavior.\n",
      "  _warn_prf(average, modifier, msg_start, len(result))\n",
      "/Users/valena17/psych_nlp/psych_note_venv/lib/python3.8/site-packages/sklearn/metrics/_classification.py:1334: UndefinedMetricWarning: Precision and F-score are ill-defined and being set to 0.0 in labels with no predicted samples. Use `zero_division` parameter to control this behavior.\n",
      "  _warn_prf(average, modifier, msg_start, len(result))\n",
      "/Users/valena17/psych_nlp/psych_note_venv/lib/python3.8/site-packages/transformers/optimization.py:407: FutureWarning: This implementation of AdamW is deprecated and will be removed in a future version. Use the PyTorch implementation torch.optim.AdamW instead, or set `no_deprecation_warning=True` to disable this warning\n",
      "  warnings.warn(\n"
     ]
    },
    {
     "name": "stdout",
     "output_type": "stream",
     "text": [
      "              precision    recall  f1-score   support\n",
      "\n",
      "           0       0.33      0.50      0.40         4\n",
      "           1       0.50      0.50      0.50         4\n",
      "           2       0.00      0.00      0.00         2\n",
      "\n",
      "    accuracy                           0.40        10\n",
      "   macro avg       0.28      0.33      0.30        10\n",
      "weighted avg       0.33      0.40      0.36        10\n",
      "\n",
      "----------------------------------------------------------------------------------------------------\n",
      "\n",
      "\n",
      "\n",
      "Parameters: {'batch_size': 4, 'epochs': 2, 'learning_rate': 1e-05, 'warmup_ratio': 0, 'weight_decay': 0}\n"
     ]
    },
    {
     "data": {
      "text/html": [
       "\n",
       "    <div>\n",
       "      \n",
       "      <progress value='2' max='12' style='width:300px; height:20px; vertical-align: middle;'></progress>\n",
       "      [ 2/12 : < :, Epoch 0.17/2]\n",
       "    </div>\n",
       "    <table border=\"1\" class=\"dataframe\">\n",
       "  <thead>\n",
       " <tr style=\"text-align: left;\">\n",
       "      <th>Epoch</th>\n",
       "      <th>Training Loss</th>\n",
       "      <th>Validation Loss</th>\n",
       "    </tr>\n",
       "  </thead>\n",
       "  <tbody>\n",
       "  </tbody>\n",
       "</table><p>"
      ],
      "text/plain": [
       "<IPython.core.display.HTML object>"
      ]
     },
     "metadata": {},
     "output_type": "display_data"
    },
    {
     "name": "stdout",
     "output_type": "stream",
     "text": [
      "              precision    recall  f1-score   support\n",
      "\n",
      "           0       0.33      0.50      0.40         4\n",
      "           1       0.50      0.50      0.50         4\n",
      "           2       0.00      0.00      0.00         2\n",
      "\n",
      "    accuracy                           0.40        10\n",
      "   macro avg       0.28      0.33      0.30        10\n",
      "weighted avg       0.33      0.40      0.36        10\n",
      "\n"
     ]
    },
    {
     "name": "stderr",
     "output_type": "stream",
     "text": [
      "/Users/valena17/psych_nlp/psych_note_venv/lib/python3.8/site-packages/sklearn/metrics/_classification.py:1334: UndefinedMetricWarning: Precision is ill-defined and being set to 0.0 in labels with no predicted samples. Use `zero_division` parameter to control this behavior.\n",
      "  _warn_prf(average, modifier, msg_start, len(result))\n",
      "/Users/valena17/psych_nlp/psych_note_venv/lib/python3.8/site-packages/sklearn/metrics/_classification.py:1334: UndefinedMetricWarning: Precision and F-score are ill-defined and being set to 0.0 in labels with no predicted samples. Use `zero_division` parameter to control this behavior.\n",
      "  _warn_prf(average, modifier, msg_start, len(result))\n",
      "/Users/valena17/psych_nlp/psych_note_venv/lib/python3.8/site-packages/sklearn/metrics/_classification.py:1334: UndefinedMetricWarning: Precision and F-score are ill-defined and being set to 0.0 in labels with no predicted samples. Use `zero_division` parameter to control this behavior.\n",
      "  _warn_prf(average, modifier, msg_start, len(result))\n",
      "/Users/valena17/psych_nlp/psych_note_venv/lib/python3.8/site-packages/sklearn/metrics/_classification.py:1334: UndefinedMetricWarning: Precision and F-score are ill-defined and being set to 0.0 in labels with no predicted samples. Use `zero_division` parameter to control this behavior.\n",
      "  _warn_prf(average, modifier, msg_start, len(result))\n"
     ]
    },
    {
     "name": "stdout",
     "output_type": "stream",
     "text": [
      "              precision    recall  f1-score   support\n",
      "\n",
      "           0       0.40      0.50      0.44         4\n",
      "           1       0.60      0.75      0.67         4\n",
      "           2       0.00      0.00      0.00         2\n",
      "\n",
      "    accuracy                           0.50        10\n",
      "   macro avg       0.33      0.42      0.37        10\n",
      "weighted avg       0.40      0.50      0.44        10\n",
      "\n"
     ]
    },
    {
     "name": "stderr",
     "output_type": "stream",
     "text": [
      "/Users/valena17/psych_nlp/psych_note_venv/lib/python3.8/site-packages/sklearn/metrics/_classification.py:1334: UndefinedMetricWarning: Precision is ill-defined and being set to 0.0 in labels with no predicted samples. Use `zero_division` parameter to control this behavior.\n",
      "  _warn_prf(average, modifier, msg_start, len(result))\n",
      "/Users/valena17/psych_nlp/psych_note_venv/lib/python3.8/site-packages/sklearn/metrics/_classification.py:1334: UndefinedMetricWarning: Precision and F-score are ill-defined and being set to 0.0 in labels with no predicted samples. Use `zero_division` parameter to control this behavior.\n",
      "  _warn_prf(average, modifier, msg_start, len(result))\n",
      "/Users/valena17/psych_nlp/psych_note_venv/lib/python3.8/site-packages/sklearn/metrics/_classification.py:1334: UndefinedMetricWarning: Precision and F-score are ill-defined and being set to 0.0 in labels with no predicted samples. Use `zero_division` parameter to control this behavior.\n",
      "  _warn_prf(average, modifier, msg_start, len(result))\n",
      "/Users/valena17/psych_nlp/psych_note_venv/lib/python3.8/site-packages/sklearn/metrics/_classification.py:1334: UndefinedMetricWarning: Precision and F-score are ill-defined and being set to 0.0 in labels with no predicted samples. Use `zero_division` parameter to control this behavior.\n",
      "  _warn_prf(average, modifier, msg_start, len(result))\n"
     ]
    },
    {
     "data": {
      "text/html": [
       "\n",
       "    <div>\n",
       "      \n",
       "      <progress value='1' max='3' style='width:300px; height:20px; vertical-align: middle;'></progress>\n",
       "      [1/3 : < :]\n",
       "    </div>\n",
       "    "
      ],
      "text/plain": [
       "<IPython.core.display.HTML object>"
      ]
     },
     "metadata": {},
     "output_type": "display_data"
    },
    {
     "name": "stderr",
     "output_type": "stream",
     "text": [
      "/Users/valena17/psych_nlp/psych_note_venv/lib/python3.8/site-packages/sklearn/metrics/_classification.py:1334: UndefinedMetricWarning: Precision is ill-defined and being set to 0.0 in labels with no predicted samples. Use `zero_division` parameter to control this behavior.\n",
      "  _warn_prf(average, modifier, msg_start, len(result))\n",
      "/Users/valena17/psych_nlp/psych_note_venv/lib/python3.8/site-packages/sklearn/metrics/_classification.py:1334: UndefinedMetricWarning: Precision and F-score are ill-defined and being set to 0.0 in labels with no predicted samples. Use `zero_division` parameter to control this behavior.\n",
      "  _warn_prf(average, modifier, msg_start, len(result))\n",
      "/Users/valena17/psych_nlp/psych_note_venv/lib/python3.8/site-packages/sklearn/metrics/_classification.py:1334: UndefinedMetricWarning: Precision and F-score are ill-defined and being set to 0.0 in labels with no predicted samples. Use `zero_division` parameter to control this behavior.\n",
      "  _warn_prf(average, modifier, msg_start, len(result))\n",
      "/Users/valena17/psych_nlp/psych_note_venv/lib/python3.8/site-packages/sklearn/metrics/_classification.py:1334: UndefinedMetricWarning: Precision and F-score are ill-defined and being set to 0.0 in labels with no predicted samples. Use `zero_division` parameter to control this behavior.\n",
      "  _warn_prf(average, modifier, msg_start, len(result))\n",
      "/Users/valena17/psych_nlp/psych_note_venv/lib/python3.8/site-packages/transformers/optimization.py:407: FutureWarning: This implementation of AdamW is deprecated and will be removed in a future version. Use the PyTorch implementation torch.optim.AdamW instead, or set `no_deprecation_warning=True` to disable this warning\n",
      "  warnings.warn(\n"
     ]
    },
    {
     "name": "stdout",
     "output_type": "stream",
     "text": [
      "              precision    recall  f1-score   support\n",
      "\n",
      "           0       0.40      0.50      0.44         4\n",
      "           1       0.60      0.75      0.67         4\n",
      "           2       0.00      0.00      0.00         2\n",
      "\n",
      "    accuracy                           0.50        10\n",
      "   macro avg       0.33      0.42      0.37        10\n",
      "weighted avg       0.40      0.50      0.44        10\n",
      "\n",
      "----------------------------------------------------------------------------------------------------\n",
      "\n",
      "\n",
      "\n",
      "Parameters: {'batch_size': 4, 'epochs': 2, 'learning_rate': 1e-05, 'warmup_ratio': 0, 'weight_decay': 0.1}\n"
     ]
    },
    {
     "data": {
      "text/html": [
       "\n",
       "    <div>\n",
       "      \n",
       "      <progress value='2' max='12' style='width:300px; height:20px; vertical-align: middle;'></progress>\n",
       "      [ 2/12 : < :, Epoch 0.17/2]\n",
       "    </div>\n",
       "    <table border=\"1\" class=\"dataframe\">\n",
       "  <thead>\n",
       " <tr style=\"text-align: left;\">\n",
       "      <th>Epoch</th>\n",
       "      <th>Training Loss</th>\n",
       "      <th>Validation Loss</th>\n",
       "    </tr>\n",
       "  </thead>\n",
       "  <tbody>\n",
       "  </tbody>\n",
       "</table><p>"
      ],
      "text/plain": [
       "<IPython.core.display.HTML object>"
      ]
     },
     "metadata": {},
     "output_type": "display_data"
    },
    {
     "name": "stdout",
     "output_type": "stream",
     "text": [
      "              precision    recall  f1-score   support\n",
      "\n",
      "           0       0.50      1.00      0.67         4\n",
      "           1       1.00      0.50      0.67         4\n",
      "           2       0.00      0.00      0.00         2\n",
      "\n",
      "    accuracy                           0.60        10\n",
      "   macro avg       0.50      0.50      0.44        10\n",
      "weighted avg       0.60      0.60      0.53        10\n",
      "\n"
     ]
    },
    {
     "name": "stderr",
     "output_type": "stream",
     "text": [
      "/Users/valena17/psych_nlp/psych_note_venv/lib/python3.8/site-packages/sklearn/metrics/_classification.py:1334: UndefinedMetricWarning: Precision is ill-defined and being set to 0.0 in labels with no predicted samples. Use `zero_division` parameter to control this behavior.\n",
      "  _warn_prf(average, modifier, msg_start, len(result))\n",
      "/Users/valena17/psych_nlp/psych_note_venv/lib/python3.8/site-packages/sklearn/metrics/_classification.py:1334: UndefinedMetricWarning: Precision and F-score are ill-defined and being set to 0.0 in labels with no predicted samples. Use `zero_division` parameter to control this behavior.\n",
      "  _warn_prf(average, modifier, msg_start, len(result))\n",
      "/Users/valena17/psych_nlp/psych_note_venv/lib/python3.8/site-packages/sklearn/metrics/_classification.py:1334: UndefinedMetricWarning: Precision and F-score are ill-defined and being set to 0.0 in labels with no predicted samples. Use `zero_division` parameter to control this behavior.\n",
      "  _warn_prf(average, modifier, msg_start, len(result))\n",
      "/Users/valena17/psych_nlp/psych_note_venv/lib/python3.8/site-packages/sklearn/metrics/_classification.py:1334: UndefinedMetricWarning: Precision and F-score are ill-defined and being set to 0.0 in labels with no predicted samples. Use `zero_division` parameter to control this behavior.\n",
      "  _warn_prf(average, modifier, msg_start, len(result))\n"
     ]
    },
    {
     "name": "stdout",
     "output_type": "stream",
     "text": [
      "              precision    recall  f1-score   support\n",
      "\n",
      "           0       0.50      0.75      0.60         4\n",
      "           1       0.67      0.50      0.57         4\n",
      "           2       1.00      0.50      0.67         2\n",
      "\n",
      "    accuracy                           0.60        10\n",
      "   macro avg       0.72      0.58      0.61        10\n",
      "weighted avg       0.67      0.60      0.60        10\n",
      "\n"
     ]
    },
    {
     "data": {
      "text/html": [
       "\n",
       "    <div>\n",
       "      \n",
       "      <progress value='1' max='3' style='width:300px; height:20px; vertical-align: middle;'></progress>\n",
       "      [1/3 : < :]\n",
       "    </div>\n",
       "    "
      ],
      "text/plain": [
       "<IPython.core.display.HTML object>"
      ]
     },
     "metadata": {},
     "output_type": "display_data"
    },
    {
     "name": "stdout",
     "output_type": "stream",
     "text": [
      "              precision    recall  f1-score   support\n",
      "\n",
      "           0       0.50      0.75      0.60         4\n",
      "           1       0.67      0.50      0.57         4\n",
      "           2       1.00      0.50      0.67         2\n",
      "\n",
      "    accuracy                           0.60        10\n",
      "   macro avg       0.72      0.58      0.61        10\n",
      "weighted avg       0.67      0.60      0.60        10\n",
      "\n",
      "----------------------------------------------------------------------------------------------------\n",
      "\n",
      "\n",
      "\n",
      "Parameters: {'batch_size': 4, 'epochs': 2, 'learning_rate': 1e-05, 'warmup_ratio': 0.1, 'weight_decay': 0}\n"
     ]
    },
    {
     "name": "stderr",
     "output_type": "stream",
     "text": [
      "/Users/valena17/psych_nlp/psych_note_venv/lib/python3.8/site-packages/transformers/optimization.py:407: FutureWarning: This implementation of AdamW is deprecated and will be removed in a future version. Use the PyTorch implementation torch.optim.AdamW instead, or set `no_deprecation_warning=True` to disable this warning\n",
      "  warnings.warn(\n"
     ]
    },
    {
     "data": {
      "text/html": [
       "\n",
       "    <div>\n",
       "      \n",
       "      <progress value='2' max='12' style='width:300px; height:20px; vertical-align: middle;'></progress>\n",
       "      [ 2/12 : < :, Epoch 0.17/2]\n",
       "    </div>\n",
       "    <table border=\"1\" class=\"dataframe\">\n",
       "  <thead>\n",
       " <tr style=\"text-align: left;\">\n",
       "      <th>Epoch</th>\n",
       "      <th>Training Loss</th>\n",
       "      <th>Validation Loss</th>\n",
       "    </tr>\n",
       "  </thead>\n",
       "  <tbody>\n",
       "  </tbody>\n",
       "</table><p>"
      ],
      "text/plain": [
       "<IPython.core.display.HTML object>"
      ]
     },
     "metadata": {},
     "output_type": "display_data"
    },
    {
     "name": "stdout",
     "output_type": "stream",
     "text": [
      "              precision    recall  f1-score   support\n",
      "\n",
      "           0       0.60      0.75      0.67         4\n",
      "           1       0.75      0.75      0.75         4\n",
      "           2       1.00      0.50      0.67         2\n",
      "\n",
      "    accuracy                           0.70        10\n",
      "   macro avg       0.78      0.67      0.69        10\n",
      "weighted avg       0.74      0.70      0.70        10\n",
      "\n",
      "              precision    recall  f1-score   support\n",
      "\n",
      "           0       0.50      0.50      0.50         4\n",
      "           1       0.60      0.75      0.67         4\n",
      "           2       1.00      0.50      0.67         2\n",
      "\n",
      "    accuracy                           0.60        10\n",
      "   macro avg       0.70      0.58      0.61        10\n",
      "weighted avg       0.64      0.60      0.60        10\n",
      "\n"
     ]
    },
    {
     "data": {
      "text/html": [
       "\n",
       "    <div>\n",
       "      \n",
       "      <progress value='1' max='3' style='width:300px; height:20px; vertical-align: middle;'></progress>\n",
       "      [1/3 : < :]\n",
       "    </div>\n",
       "    "
      ],
      "text/plain": [
       "<IPython.core.display.HTML object>"
      ]
     },
     "metadata": {},
     "output_type": "display_data"
    },
    {
     "name": "stdout",
     "output_type": "stream",
     "text": [
      "              precision    recall  f1-score   support\n",
      "\n",
      "           0       0.60      0.75      0.67         4\n",
      "           1       0.75      0.75      0.75         4\n",
      "           2       1.00      0.50      0.67         2\n",
      "\n",
      "    accuracy                           0.70        10\n",
      "   macro avg       0.78      0.67      0.69        10\n",
      "weighted avg       0.74      0.70      0.70        10\n",
      "\n",
      "----------------------------------------------------------------------------------------------------\n",
      "\n",
      "\n",
      "\n",
      "Parameters: {'batch_size': 4, 'epochs': 2, 'learning_rate': 1e-05, 'warmup_ratio': 0.1, 'weight_decay': 0.1}\n"
     ]
    },
    {
     "name": "stderr",
     "output_type": "stream",
     "text": [
      "/Users/valena17/psych_nlp/psych_note_venv/lib/python3.8/site-packages/transformers/optimization.py:407: FutureWarning: This implementation of AdamW is deprecated and will be removed in a future version. Use the PyTorch implementation torch.optim.AdamW instead, or set `no_deprecation_warning=True` to disable this warning\n",
      "  warnings.warn(\n"
     ]
    },
    {
     "data": {
      "text/html": [
       "\n",
       "    <div>\n",
       "      \n",
       "      <progress value='2' max='12' style='width:300px; height:20px; vertical-align: middle;'></progress>\n",
       "      [ 2/12 : < :, Epoch 0.17/2]\n",
       "    </div>\n",
       "    <table border=\"1\" class=\"dataframe\">\n",
       "  <thead>\n",
       " <tr style=\"text-align: left;\">\n",
       "      <th>Epoch</th>\n",
       "      <th>Training Loss</th>\n",
       "      <th>Validation Loss</th>\n",
       "    </tr>\n",
       "  </thead>\n",
       "  <tbody>\n",
       "  </tbody>\n",
       "</table><p>"
      ],
      "text/plain": [
       "<IPython.core.display.HTML object>"
      ]
     },
     "metadata": {},
     "output_type": "display_data"
    },
    {
     "name": "stdout",
     "output_type": "stream",
     "text": [
      "              precision    recall  f1-score   support\n",
      "\n",
      "           0       0.50      0.50      0.50         4\n",
      "           1       0.60      0.75      0.67         4\n",
      "           2       1.00      0.50      0.67         2\n",
      "\n",
      "    accuracy                           0.60        10\n",
      "   macro avg       0.70      0.58      0.61        10\n",
      "weighted avg       0.64      0.60      0.60        10\n",
      "\n",
      "              precision    recall  f1-score   support\n",
      "\n",
      "           0       0.60      0.75      0.67         4\n",
      "           1       0.75      0.75      0.75         4\n",
      "           2       1.00      0.50      0.67         2\n",
      "\n",
      "    accuracy                           0.70        10\n",
      "   macro avg       0.78      0.67      0.69        10\n",
      "weighted avg       0.74      0.70      0.70        10\n",
      "\n"
     ]
    },
    {
     "data": {
      "text/html": [
       "\n",
       "    <div>\n",
       "      \n",
       "      <progress value='1' max='3' style='width:300px; height:20px; vertical-align: middle;'></progress>\n",
       "      [1/3 : < :]\n",
       "    </div>\n",
       "    "
      ],
      "text/plain": [
       "<IPython.core.display.HTML object>"
      ]
     },
     "metadata": {},
     "output_type": "display_data"
    },
    {
     "name": "stdout",
     "output_type": "stream",
     "text": [
      "              precision    recall  f1-score   support\n",
      "\n",
      "           0       0.60      0.75      0.67         4\n",
      "           1       0.75      0.75      0.75         4\n",
      "           2       1.00      0.50      0.67         2\n",
      "\n",
      "    accuracy                           0.70        10\n",
      "   macro avg       0.78      0.67      0.69        10\n",
      "weighted avg       0.74      0.70      0.70        10\n",
      "\n",
      "----------------------------------------------------------------------------------------------------\n",
      "\n",
      "\n",
      "\n",
      "Parameters: {'batch_size': 4, 'epochs': 2, 'learning_rate': 2e-05, 'warmup_ratio': 0, 'weight_decay': 0}\n"
     ]
    },
    {
     "name": "stderr",
     "output_type": "stream",
     "text": [
      "/Users/valena17/psych_nlp/psych_note_venv/lib/python3.8/site-packages/transformers/optimization.py:407: FutureWarning: This implementation of AdamW is deprecated and will be removed in a future version. Use the PyTorch implementation torch.optim.AdamW instead, or set `no_deprecation_warning=True` to disable this warning\n",
      "  warnings.warn(\n"
     ]
    },
    {
     "data": {
      "text/html": [
       "\n",
       "    <div>\n",
       "      \n",
       "      <progress value='2' max='12' style='width:300px; height:20px; vertical-align: middle;'></progress>\n",
       "      [ 2/12 : < :, Epoch 0.17/2]\n",
       "    </div>\n",
       "    <table border=\"1\" class=\"dataframe\">\n",
       "  <thead>\n",
       " <tr style=\"text-align: left;\">\n",
       "      <th>Epoch</th>\n",
       "      <th>Training Loss</th>\n",
       "      <th>Validation Loss</th>\n",
       "    </tr>\n",
       "  </thead>\n",
       "  <tbody>\n",
       "  </tbody>\n",
       "</table><p>"
      ],
      "text/plain": [
       "<IPython.core.display.HTML object>"
      ]
     },
     "metadata": {},
     "output_type": "display_data"
    },
    {
     "name": "stdout",
     "output_type": "stream",
     "text": [
      "              precision    recall  f1-score   support\n",
      "\n",
      "           0       0.60      0.75      0.67         4\n",
      "           1       0.75      0.75      0.75         4\n",
      "           2       1.00      0.50      0.67         2\n",
      "\n",
      "    accuracy                           0.70        10\n",
      "   macro avg       0.78      0.67      0.69        10\n",
      "weighted avg       0.74      0.70      0.70        10\n",
      "\n",
      "              precision    recall  f1-score   support\n",
      "\n",
      "           0       0.60      0.75      0.67         4\n",
      "           1       0.75      0.75      0.75         4\n",
      "           2       1.00      0.50      0.67         2\n",
      "\n",
      "    accuracy                           0.70        10\n",
      "   macro avg       0.78      0.67      0.69        10\n",
      "weighted avg       0.74      0.70      0.70        10\n",
      "\n"
     ]
    },
    {
     "data": {
      "text/html": [
       "\n",
       "    <div>\n",
       "      \n",
       "      <progress value='1' max='3' style='width:300px; height:20px; vertical-align: middle;'></progress>\n",
       "      [1/3 : < :]\n",
       "    </div>\n",
       "    "
      ],
      "text/plain": [
       "<IPython.core.display.HTML object>"
      ]
     },
     "metadata": {},
     "output_type": "display_data"
    },
    {
     "name": "stdout",
     "output_type": "stream",
     "text": [
      "              precision    recall  f1-score   support\n",
      "\n",
      "           0       0.60      0.75      0.67         4\n",
      "           1       0.75      0.75      0.75         4\n",
      "           2       1.00      0.50      0.67         2\n",
      "\n",
      "    accuracy                           0.70        10\n",
      "   macro avg       0.78      0.67      0.69        10\n",
      "weighted avg       0.74      0.70      0.70        10\n",
      "\n",
      "----------------------------------------------------------------------------------------------------\n",
      "\n",
      "\n",
      "\n",
      "Parameters: {'batch_size': 4, 'epochs': 2, 'learning_rate': 2e-05, 'warmup_ratio': 0, 'weight_decay': 0.1}\n"
     ]
    },
    {
     "name": "stderr",
     "output_type": "stream",
     "text": [
      "/Users/valena17/psych_nlp/psych_note_venv/lib/python3.8/site-packages/transformers/optimization.py:407: FutureWarning: This implementation of AdamW is deprecated and will be removed in a future version. Use the PyTorch implementation torch.optim.AdamW instead, or set `no_deprecation_warning=True` to disable this warning\n",
      "  warnings.warn(\n"
     ]
    },
    {
     "data": {
      "text/html": [
       "\n",
       "    <div>\n",
       "      \n",
       "      <progress value='2' max='12' style='width:300px; height:20px; vertical-align: middle;'></progress>\n",
       "      [ 2/12 : < :, Epoch 0.17/2]\n",
       "    </div>\n",
       "    <table border=\"1\" class=\"dataframe\">\n",
       "  <thead>\n",
       " <tr style=\"text-align: left;\">\n",
       "      <th>Epoch</th>\n",
       "      <th>Training Loss</th>\n",
       "      <th>Validation Loss</th>\n",
       "    </tr>\n",
       "  </thead>\n",
       "  <tbody>\n",
       "  </tbody>\n",
       "</table><p>"
      ],
      "text/plain": [
       "<IPython.core.display.HTML object>"
      ]
     },
     "metadata": {},
     "output_type": "display_data"
    },
    {
     "name": "stdout",
     "output_type": "stream",
     "text": [
      "              precision    recall  f1-score   support\n",
      "\n",
      "           0       0.57      1.00      0.73         4\n",
      "           1       1.00      0.50      0.67         4\n",
      "           2       1.00      0.50      0.67         2\n",
      "\n",
      "    accuracy                           0.70        10\n",
      "   macro avg       0.86      0.67      0.69        10\n",
      "weighted avg       0.83      0.70      0.69        10\n",
      "\n",
      "              precision    recall  f1-score   support\n",
      "\n",
      "           0       0.57      1.00      0.73         4\n",
      "           1       1.00      0.50      0.67         4\n",
      "           2       1.00      0.50      0.67         2\n",
      "\n",
      "    accuracy                           0.70        10\n",
      "   macro avg       0.86      0.67      0.69        10\n",
      "weighted avg       0.83      0.70      0.69        10\n",
      "\n"
     ]
    },
    {
     "data": {
      "text/html": [
       "\n",
       "    <div>\n",
       "      \n",
       "      <progress value='1' max='3' style='width:300px; height:20px; vertical-align: middle;'></progress>\n",
       "      [1/3 : < :]\n",
       "    </div>\n",
       "    "
      ],
      "text/plain": [
       "<IPython.core.display.HTML object>"
      ]
     },
     "metadata": {},
     "output_type": "display_data"
    },
    {
     "name": "stdout",
     "output_type": "stream",
     "text": [
      "              precision    recall  f1-score   support\n",
      "\n",
      "           0       0.57      1.00      0.73         4\n",
      "           1       1.00      0.50      0.67         4\n",
      "           2       1.00      0.50      0.67         2\n",
      "\n",
      "    accuracy                           0.70        10\n",
      "   macro avg       0.86      0.67      0.69        10\n",
      "weighted avg       0.83      0.70      0.69        10\n",
      "\n",
      "----------------------------------------------------------------------------------------------------\n",
      "\n",
      "\n",
      "\n",
      "Parameters: {'batch_size': 4, 'epochs': 2, 'learning_rate': 2e-05, 'warmup_ratio': 0.1, 'weight_decay': 0}\n"
     ]
    },
    {
     "name": "stderr",
     "output_type": "stream",
     "text": [
      "/Users/valena17/psych_nlp/psych_note_venv/lib/python3.8/site-packages/transformers/optimization.py:407: FutureWarning: This implementation of AdamW is deprecated and will be removed in a future version. Use the PyTorch implementation torch.optim.AdamW instead, or set `no_deprecation_warning=True` to disable this warning\n",
      "  warnings.warn(\n"
     ]
    },
    {
     "data": {
      "text/html": [
       "\n",
       "    <div>\n",
       "      \n",
       "      <progress value='2' max='12' style='width:300px; height:20px; vertical-align: middle;'></progress>\n",
       "      [ 2/12 : < :, Epoch 0.17/2]\n",
       "    </div>\n",
       "    <table border=\"1\" class=\"dataframe\">\n",
       "  <thead>\n",
       " <tr style=\"text-align: left;\">\n",
       "      <th>Epoch</th>\n",
       "      <th>Training Loss</th>\n",
       "      <th>Validation Loss</th>\n",
       "    </tr>\n",
       "  </thead>\n",
       "  <tbody>\n",
       "  </tbody>\n",
       "</table><p>"
      ],
      "text/plain": [
       "<IPython.core.display.HTML object>"
      ]
     },
     "metadata": {},
     "output_type": "display_data"
    },
    {
     "name": "stdout",
     "output_type": "stream",
     "text": [
      "              precision    recall  f1-score   support\n",
      "\n",
      "           0       0.57      1.00      0.73         4\n",
      "           1       1.00      0.50      0.67         4\n",
      "           2       1.00      0.50      0.67         2\n",
      "\n",
      "    accuracy                           0.70        10\n",
      "   macro avg       0.86      0.67      0.69        10\n",
      "weighted avg       0.83      0.70      0.69        10\n",
      "\n",
      "              precision    recall  f1-score   support\n",
      "\n",
      "           0       0.57      1.00      0.73         4\n",
      "           1       1.00      0.50      0.67         4\n",
      "           2       1.00      0.50      0.67         2\n",
      "\n",
      "    accuracy                           0.70        10\n",
      "   macro avg       0.86      0.67      0.69        10\n",
      "weighted avg       0.83      0.70      0.69        10\n",
      "\n"
     ]
    },
    {
     "data": {
      "text/html": [
       "\n",
       "    <div>\n",
       "      \n",
       "      <progress value='1' max='3' style='width:300px; height:20px; vertical-align: middle;'></progress>\n",
       "      [1/3 : < :]\n",
       "    </div>\n",
       "    "
      ],
      "text/plain": [
       "<IPython.core.display.HTML object>"
      ]
     },
     "metadata": {},
     "output_type": "display_data"
    },
    {
     "name": "stdout",
     "output_type": "stream",
     "text": [
      "              precision    recall  f1-score   support\n",
      "\n",
      "           0       0.57      1.00      0.73         4\n",
      "           1       1.00      0.50      0.67         4\n",
      "           2       1.00      0.50      0.67         2\n",
      "\n",
      "    accuracy                           0.70        10\n",
      "   macro avg       0.86      0.67      0.69        10\n",
      "weighted avg       0.83      0.70      0.69        10\n",
      "\n",
      "----------------------------------------------------------------------------------------------------\n",
      "\n",
      "\n",
      "\n",
      "Parameters: {'batch_size': 4, 'epochs': 2, 'learning_rate': 2e-05, 'warmup_ratio': 0.1, 'weight_decay': 0.1}\n"
     ]
    },
    {
     "name": "stderr",
     "output_type": "stream",
     "text": [
      "/Users/valena17/psych_nlp/psych_note_venv/lib/python3.8/site-packages/transformers/optimization.py:407: FutureWarning: This implementation of AdamW is deprecated and will be removed in a future version. Use the PyTorch implementation torch.optim.AdamW instead, or set `no_deprecation_warning=True` to disable this warning\n",
      "  warnings.warn(\n"
     ]
    },
    {
     "data": {
      "text/html": [
       "\n",
       "    <div>\n",
       "      \n",
       "      <progress value='2' max='12' style='width:300px; height:20px; vertical-align: middle;'></progress>\n",
       "      [ 2/12 : < :, Epoch 0.17/2]\n",
       "    </div>\n",
       "    <table border=\"1\" class=\"dataframe\">\n",
       "  <thead>\n",
       " <tr style=\"text-align: left;\">\n",
       "      <th>Epoch</th>\n",
       "      <th>Training Loss</th>\n",
       "      <th>Validation Loss</th>\n",
       "    </tr>\n",
       "  </thead>\n",
       "  <tbody>\n",
       "  </tbody>\n",
       "</table><p>"
      ],
      "text/plain": [
       "<IPython.core.display.HTML object>"
      ]
     },
     "metadata": {},
     "output_type": "display_data"
    },
    {
     "name": "stdout",
     "output_type": "stream",
     "text": [
      "              precision    recall  f1-score   support\n",
      "\n",
      "           0       0.50      0.50      0.50         4\n",
      "           1       0.75      0.75      0.75         4\n",
      "           2       0.50      0.50      0.50         2\n",
      "\n",
      "    accuracy                           0.60        10\n",
      "   macro avg       0.58      0.58      0.58        10\n",
      "weighted avg       0.60      0.60      0.60        10\n",
      "\n",
      "              precision    recall  f1-score   support\n",
      "\n",
      "           0       0.50      0.50      0.50         4\n",
      "           1       0.75      0.75      0.75         4\n",
      "           2       0.50      0.50      0.50         2\n",
      "\n",
      "    accuracy                           0.60        10\n",
      "   macro avg       0.58      0.58      0.58        10\n",
      "weighted avg       0.60      0.60      0.60        10\n",
      "\n"
     ]
    },
    {
     "data": {
      "text/html": [
       "\n",
       "    <div>\n",
       "      \n",
       "      <progress value='1' max='3' style='width:300px; height:20px; vertical-align: middle;'></progress>\n",
       "      [1/3 : < :]\n",
       "    </div>\n",
       "    "
      ],
      "text/plain": [
       "<IPython.core.display.HTML object>"
      ]
     },
     "metadata": {},
     "output_type": "display_data"
    },
    {
     "name": "stdout",
     "output_type": "stream",
     "text": [
      "              precision    recall  f1-score   support\n",
      "\n",
      "           0       0.50      0.50      0.50         4\n",
      "           1       0.75      0.75      0.75         4\n",
      "           2       0.50      0.50      0.50         2\n",
      "\n",
      "    accuracy                           0.60        10\n",
      "   macro avg       0.58      0.58      0.58        10\n",
      "weighted avg       0.60      0.60      0.60        10\n",
      "\n",
      "----------------------------------------------------------------------------------------------------\n",
      "\n",
      "\n",
      "\n",
      "Parameters: {'batch_size': 4, 'epochs': 2, 'learning_rate': 5e-05, 'warmup_ratio': 0, 'weight_decay': 0}\n"
     ]
    },
    {
     "name": "stderr",
     "output_type": "stream",
     "text": [
      "/Users/valena17/psych_nlp/psych_note_venv/lib/python3.8/site-packages/transformers/optimization.py:407: FutureWarning: This implementation of AdamW is deprecated and will be removed in a future version. Use the PyTorch implementation torch.optim.AdamW instead, or set `no_deprecation_warning=True` to disable this warning\n",
      "  warnings.warn(\n"
     ]
    },
    {
     "data": {
      "text/html": [
       "\n",
       "    <div>\n",
       "      \n",
       "      <progress value='2' max='12' style='width:300px; height:20px; vertical-align: middle;'></progress>\n",
       "      [ 2/12 : < :, Epoch 0.17/2]\n",
       "    </div>\n",
       "    <table border=\"1\" class=\"dataframe\">\n",
       "  <thead>\n",
       " <tr style=\"text-align: left;\">\n",
       "      <th>Epoch</th>\n",
       "      <th>Training Loss</th>\n",
       "      <th>Validation Loss</th>\n",
       "    </tr>\n",
       "  </thead>\n",
       "  <tbody>\n",
       "  </tbody>\n",
       "</table><p>"
      ],
      "text/plain": [
       "<IPython.core.display.HTML object>"
      ]
     },
     "metadata": {},
     "output_type": "display_data"
    },
    {
     "name": "stdout",
     "output_type": "stream",
     "text": [
      "              precision    recall  f1-score   support\n",
      "\n",
      "           0       0.67      1.00      0.80         4\n",
      "           1       1.00      0.75      0.86         4\n",
      "           2       1.00      0.50      0.67         2\n",
      "\n",
      "    accuracy                           0.80        10\n",
      "   macro avg       0.89      0.75      0.77        10\n",
      "weighted avg       0.87      0.80      0.80        10\n",
      "\n",
      "              precision    recall  f1-score   support\n",
      "\n",
      "           0       0.50      0.50      0.50         4\n",
      "           1       0.75      0.75      0.75         4\n",
      "           2       0.50      0.50      0.50         2\n",
      "\n",
      "    accuracy                           0.60        10\n",
      "   macro avg       0.58      0.58      0.58        10\n",
      "weighted avg       0.60      0.60      0.60        10\n",
      "\n"
     ]
    },
    {
     "data": {
      "text/html": [
       "\n",
       "    <div>\n",
       "      \n",
       "      <progress value='1' max='3' style='width:300px; height:20px; vertical-align: middle;'></progress>\n",
       "      [1/3 : < :]\n",
       "    </div>\n",
       "    "
      ],
      "text/plain": [
       "<IPython.core.display.HTML object>"
      ]
     },
     "metadata": {},
     "output_type": "display_data"
    },
    {
     "name": "stdout",
     "output_type": "stream",
     "text": [
      "              precision    recall  f1-score   support\n",
      "\n",
      "           0       0.67      1.00      0.80         4\n",
      "           1       1.00      0.75      0.86         4\n",
      "           2       1.00      0.50      0.67         2\n",
      "\n",
      "    accuracy                           0.80        10\n",
      "   macro avg       0.89      0.75      0.77        10\n",
      "weighted avg       0.87      0.80      0.80        10\n",
      "\n",
      "----------------------------------------------------------------------------------------------------\n",
      "\n",
      "\n",
      "\n",
      "Parameters: {'batch_size': 4, 'epochs': 2, 'learning_rate': 5e-05, 'warmup_ratio': 0, 'weight_decay': 0.1}\n"
     ]
    },
    {
     "name": "stderr",
     "output_type": "stream",
     "text": [
      "/Users/valena17/psych_nlp/psych_note_venv/lib/python3.8/site-packages/transformers/optimization.py:407: FutureWarning: This implementation of AdamW is deprecated and will be removed in a future version. Use the PyTorch implementation torch.optim.AdamW instead, or set `no_deprecation_warning=True` to disable this warning\n",
      "  warnings.warn(\n"
     ]
    },
    {
     "data": {
      "text/html": [
       "\n",
       "    <div>\n",
       "      \n",
       "      <progress value='2' max='12' style='width:300px; height:20px; vertical-align: middle;'></progress>\n",
       "      [ 2/12 : < :, Epoch 0.17/2]\n",
       "    </div>\n",
       "    <table border=\"1\" class=\"dataframe\">\n",
       "  <thead>\n",
       " <tr style=\"text-align: left;\">\n",
       "      <th>Epoch</th>\n",
       "      <th>Training Loss</th>\n",
       "      <th>Validation Loss</th>\n",
       "    </tr>\n",
       "  </thead>\n",
       "  <tbody>\n",
       "  </tbody>\n",
       "</table><p>"
      ],
      "text/plain": [
       "<IPython.core.display.HTML object>"
      ]
     },
     "metadata": {},
     "output_type": "display_data"
    },
    {
     "name": "stdout",
     "output_type": "stream",
     "text": [
      "              precision    recall  f1-score   support\n",
      "\n",
      "           0       0.50      0.75      0.60         4\n",
      "           1       1.00      0.50      0.67         4\n",
      "           2       0.50      0.50      0.50         2\n",
      "\n",
      "    accuracy                           0.60        10\n",
      "   macro avg       0.67      0.58      0.59        10\n",
      "weighted avg       0.70      0.60      0.61        10\n",
      "\n",
      "              precision    recall  f1-score   support\n",
      "\n",
      "           0       0.50      0.75      0.60         4\n",
      "           1       1.00      0.50      0.67         4\n",
      "           2       0.50      0.50      0.50         2\n",
      "\n",
      "    accuracy                           0.60        10\n",
      "   macro avg       0.67      0.58      0.59        10\n",
      "weighted avg       0.70      0.60      0.61        10\n",
      "\n"
     ]
    },
    {
     "data": {
      "text/html": [
       "\n",
       "    <div>\n",
       "      \n",
       "      <progress value='1' max='3' style='width:300px; height:20px; vertical-align: middle;'></progress>\n",
       "      [1/3 : < :]\n",
       "    </div>\n",
       "    "
      ],
      "text/plain": [
       "<IPython.core.display.HTML object>"
      ]
     },
     "metadata": {},
     "output_type": "display_data"
    },
    {
     "name": "stdout",
     "output_type": "stream",
     "text": [
      "              precision    recall  f1-score   support\n",
      "\n",
      "           0       0.50      0.75      0.60         4\n",
      "           1       1.00      0.50      0.67         4\n",
      "           2       0.50      0.50      0.50         2\n",
      "\n",
      "    accuracy                           0.60        10\n",
      "   macro avg       0.67      0.58      0.59        10\n",
      "weighted avg       0.70      0.60      0.61        10\n",
      "\n",
      "----------------------------------------------------------------------------------------------------\n",
      "\n",
      "\n",
      "\n",
      "Parameters: {'batch_size': 4, 'epochs': 2, 'learning_rate': 5e-05, 'warmup_ratio': 0.1, 'weight_decay': 0}\n"
     ]
    },
    {
     "name": "stderr",
     "output_type": "stream",
     "text": [
      "/Users/valena17/psych_nlp/psych_note_venv/lib/python3.8/site-packages/transformers/optimization.py:407: FutureWarning: This implementation of AdamW is deprecated and will be removed in a future version. Use the PyTorch implementation torch.optim.AdamW instead, or set `no_deprecation_warning=True` to disable this warning\n",
      "  warnings.warn(\n"
     ]
    },
    {
     "data": {
      "text/html": [
       "\n",
       "    <div>\n",
       "      \n",
       "      <progress value='2' max='12' style='width:300px; height:20px; vertical-align: middle;'></progress>\n",
       "      [ 2/12 : < :, Epoch 0.17/2]\n",
       "    </div>\n",
       "    <table border=\"1\" class=\"dataframe\">\n",
       "  <thead>\n",
       " <tr style=\"text-align: left;\">\n",
       "      <th>Epoch</th>\n",
       "      <th>Training Loss</th>\n",
       "      <th>Validation Loss</th>\n",
       "    </tr>\n",
       "  </thead>\n",
       "  <tbody>\n",
       "  </tbody>\n",
       "</table><p>"
      ],
      "text/plain": [
       "<IPython.core.display.HTML object>"
      ]
     },
     "metadata": {},
     "output_type": "display_data"
    },
    {
     "name": "stdout",
     "output_type": "stream",
     "text": [
      "              precision    recall  f1-score   support\n",
      "\n",
      "           0       0.57      1.00      0.73         4\n",
      "           1       1.00      0.75      0.86         4\n",
      "           2       0.00      0.00      0.00         2\n",
      "\n",
      "    accuracy                           0.70        10\n",
      "   macro avg       0.52      0.58      0.53        10\n",
      "weighted avg       0.63      0.70      0.63        10\n",
      "\n"
     ]
    },
    {
     "name": "stderr",
     "output_type": "stream",
     "text": [
      "/Users/valena17/psych_nlp/psych_note_venv/lib/python3.8/site-packages/sklearn/metrics/_classification.py:1334: UndefinedMetricWarning: Precision is ill-defined and being set to 0.0 in labels with no predicted samples. Use `zero_division` parameter to control this behavior.\n",
      "  _warn_prf(average, modifier, msg_start, len(result))\n",
      "/Users/valena17/psych_nlp/psych_note_venv/lib/python3.8/site-packages/sklearn/metrics/_classification.py:1334: UndefinedMetricWarning: Precision and F-score are ill-defined and being set to 0.0 in labels with no predicted samples. Use `zero_division` parameter to control this behavior.\n",
      "  _warn_prf(average, modifier, msg_start, len(result))\n",
      "/Users/valena17/psych_nlp/psych_note_venv/lib/python3.8/site-packages/sklearn/metrics/_classification.py:1334: UndefinedMetricWarning: Precision and F-score are ill-defined and being set to 0.0 in labels with no predicted samples. Use `zero_division` parameter to control this behavior.\n",
      "  _warn_prf(average, modifier, msg_start, len(result))\n",
      "/Users/valena17/psych_nlp/psych_note_venv/lib/python3.8/site-packages/sklearn/metrics/_classification.py:1334: UndefinedMetricWarning: Precision and F-score are ill-defined and being set to 0.0 in labels with no predicted samples. Use `zero_division` parameter to control this behavior.\n",
      "  _warn_prf(average, modifier, msg_start, len(result))\n"
     ]
    },
    {
     "name": "stdout",
     "output_type": "stream",
     "text": [
      "              precision    recall  f1-score   support\n",
      "\n",
      "           0       0.60      0.75      0.67         4\n",
      "           1       1.00      0.75      0.86         4\n",
      "           2       0.50      0.50      0.50         2\n",
      "\n",
      "    accuracy                           0.70        10\n",
      "   macro avg       0.70      0.67      0.67        10\n",
      "weighted avg       0.74      0.70      0.71        10\n",
      "\n"
     ]
    },
    {
     "data": {
      "text/html": [
       "\n",
       "    <div>\n",
       "      \n",
       "      <progress value='1' max='3' style='width:300px; height:20px; vertical-align: middle;'></progress>\n",
       "      [1/3 : < :]\n",
       "    </div>\n",
       "    "
      ],
      "text/plain": [
       "<IPython.core.display.HTML object>"
      ]
     },
     "metadata": {},
     "output_type": "display_data"
    },
    {
     "name": "stdout",
     "output_type": "stream",
     "text": [
      "              precision    recall  f1-score   support\n",
      "\n",
      "           0       0.60      0.75      0.67         4\n",
      "           1       1.00      0.75      0.86         4\n",
      "           2       0.50      0.50      0.50         2\n",
      "\n",
      "    accuracy                           0.70        10\n",
      "   macro avg       0.70      0.67      0.67        10\n",
      "weighted avg       0.74      0.70      0.71        10\n",
      "\n",
      "----------------------------------------------------------------------------------------------------\n",
      "\n",
      "\n",
      "\n",
      "Parameters: {'batch_size': 4, 'epochs': 2, 'learning_rate': 5e-05, 'warmup_ratio': 0.1, 'weight_decay': 0.1}\n"
     ]
    },
    {
     "name": "stderr",
     "output_type": "stream",
     "text": [
      "/Users/valena17/psych_nlp/psych_note_venv/lib/python3.8/site-packages/transformers/optimization.py:407: FutureWarning: This implementation of AdamW is deprecated and will be removed in a future version. Use the PyTorch implementation torch.optim.AdamW instead, or set `no_deprecation_warning=True` to disable this warning\n",
      "  warnings.warn(\n"
     ]
    },
    {
     "data": {
      "text/html": [
       "\n",
       "    <div>\n",
       "      \n",
       "      <progress value='2' max='12' style='width:300px; height:20px; vertical-align: middle;'></progress>\n",
       "      [ 2/12 : < :, Epoch 0.17/2]\n",
       "    </div>\n",
       "    <table border=\"1\" class=\"dataframe\">\n",
       "  <thead>\n",
       " <tr style=\"text-align: left;\">\n",
       "      <th>Epoch</th>\n",
       "      <th>Training Loss</th>\n",
       "      <th>Validation Loss</th>\n",
       "    </tr>\n",
       "  </thead>\n",
       "  <tbody>\n",
       "  </tbody>\n",
       "</table><p>"
      ],
      "text/plain": [
       "<IPython.core.display.HTML object>"
      ]
     },
     "metadata": {},
     "output_type": "display_data"
    },
    {
     "name": "stdout",
     "output_type": "stream",
     "text": [
      "              precision    recall  f1-score   support\n",
      "\n",
      "           0       0.50      0.75      0.60         4\n",
      "           1       1.00      0.50      0.67         4\n",
      "           2       0.50      0.50      0.50         2\n",
      "\n",
      "    accuracy                           0.60        10\n",
      "   macro avg       0.67      0.58      0.59        10\n",
      "weighted avg       0.70      0.60      0.61        10\n",
      "\n",
      "              precision    recall  f1-score   support\n",
      "\n",
      "           0       0.50      1.00      0.67         4\n",
      "           1       1.00      0.50      0.67         4\n",
      "           2       0.00      0.00      0.00         2\n",
      "\n",
      "    accuracy                           0.60        10\n",
      "   macro avg       0.50      0.50      0.44        10\n",
      "weighted avg       0.60      0.60      0.53        10\n",
      "\n"
     ]
    },
    {
     "name": "stderr",
     "output_type": "stream",
     "text": [
      "/Users/valena17/psych_nlp/psych_note_venv/lib/python3.8/site-packages/sklearn/metrics/_classification.py:1334: UndefinedMetricWarning: Precision is ill-defined and being set to 0.0 in labels with no predicted samples. Use `zero_division` parameter to control this behavior.\n",
      "  _warn_prf(average, modifier, msg_start, len(result))\n",
      "/Users/valena17/psych_nlp/psych_note_venv/lib/python3.8/site-packages/sklearn/metrics/_classification.py:1334: UndefinedMetricWarning: Precision and F-score are ill-defined and being set to 0.0 in labels with no predicted samples. Use `zero_division` parameter to control this behavior.\n",
      "  _warn_prf(average, modifier, msg_start, len(result))\n",
      "/Users/valena17/psych_nlp/psych_note_venv/lib/python3.8/site-packages/sklearn/metrics/_classification.py:1334: UndefinedMetricWarning: Precision and F-score are ill-defined and being set to 0.0 in labels with no predicted samples. Use `zero_division` parameter to control this behavior.\n",
      "  _warn_prf(average, modifier, msg_start, len(result))\n",
      "/Users/valena17/psych_nlp/psych_note_venv/lib/python3.8/site-packages/sklearn/metrics/_classification.py:1334: UndefinedMetricWarning: Precision and F-score are ill-defined and being set to 0.0 in labels with no predicted samples. Use `zero_division` parameter to control this behavior.\n",
      "  _warn_prf(average, modifier, msg_start, len(result))\n"
     ]
    },
    {
     "data": {
      "text/html": [
       "\n",
       "    <div>\n",
       "      \n",
       "      <progress value='1' max='3' style='width:300px; height:20px; vertical-align: middle;'></progress>\n",
       "      [1/3 : < :]\n",
       "    </div>\n",
       "    "
      ],
      "text/plain": [
       "<IPython.core.display.HTML object>"
      ]
     },
     "metadata": {},
     "output_type": "display_data"
    },
    {
     "name": "stdout",
     "output_type": "stream",
     "text": [
      "              precision    recall  f1-score   support\n",
      "\n",
      "           0       0.50      0.75      0.60         4\n",
      "           1       1.00      0.50      0.67         4\n",
      "           2       0.50      0.50      0.50         2\n",
      "\n",
      "    accuracy                           0.60        10\n",
      "   macro avg       0.67      0.58      0.59        10\n",
      "weighted avg       0.70      0.60      0.61        10\n",
      "\n",
      "----------------------------------------------------------------------------------------------------\n",
      "\n",
      "\n",
      "\n",
      "Parameters: {'batch_size': 4, 'epochs': 2, 'learning_rate': 0.0001, 'warmup_ratio': 0, 'weight_decay': 0}\n"
     ]
    },
    {
     "name": "stderr",
     "output_type": "stream",
     "text": [
      "/Users/valena17/psych_nlp/psych_note_venv/lib/python3.8/site-packages/transformers/optimization.py:407: FutureWarning: This implementation of AdamW is deprecated and will be removed in a future version. Use the PyTorch implementation torch.optim.AdamW instead, or set `no_deprecation_warning=True` to disable this warning\n",
      "  warnings.warn(\n"
     ]
    },
    {
     "data": {
      "text/html": [
       "\n",
       "    <div>\n",
       "      \n",
       "      <progress value='2' max='12' style='width:300px; height:20px; vertical-align: middle;'></progress>\n",
       "      [ 2/12 : < :, Epoch 0.17/2]\n",
       "    </div>\n",
       "    <table border=\"1\" class=\"dataframe\">\n",
       "  <thead>\n",
       " <tr style=\"text-align: left;\">\n",
       "      <th>Epoch</th>\n",
       "      <th>Training Loss</th>\n",
       "      <th>Validation Loss</th>\n",
       "    </tr>\n",
       "  </thead>\n",
       "  <tbody>\n",
       "  </tbody>\n",
       "</table><p>"
      ],
      "text/plain": [
       "<IPython.core.display.HTML object>"
      ]
     },
     "metadata": {},
     "output_type": "display_data"
    },
    {
     "name": "stdout",
     "output_type": "stream",
     "text": [
      "              precision    recall  f1-score   support\n",
      "\n",
      "           0       0.00      0.00      0.00         4\n",
      "           1       0.60      0.75      0.67         4\n",
      "           2       0.40      1.00      0.57         2\n",
      "\n",
      "    accuracy                           0.50        10\n",
      "   macro avg       0.33      0.58      0.41        10\n",
      "weighted avg       0.32      0.50      0.38        10\n",
      "\n"
     ]
    },
    {
     "name": "stderr",
     "output_type": "stream",
     "text": [
      "/Users/valena17/psych_nlp/psych_note_venv/lib/python3.8/site-packages/sklearn/metrics/_classification.py:1334: UndefinedMetricWarning: Precision is ill-defined and being set to 0.0 in labels with no predicted samples. Use `zero_division` parameter to control this behavior.\n",
      "  _warn_prf(average, modifier, msg_start, len(result))\n",
      "/Users/valena17/psych_nlp/psych_note_venv/lib/python3.8/site-packages/sklearn/metrics/_classification.py:1334: UndefinedMetricWarning: Precision and F-score are ill-defined and being set to 0.0 in labels with no predicted samples. Use `zero_division` parameter to control this behavior.\n",
      "  _warn_prf(average, modifier, msg_start, len(result))\n",
      "/Users/valena17/psych_nlp/psych_note_venv/lib/python3.8/site-packages/sklearn/metrics/_classification.py:1334: UndefinedMetricWarning: Precision and F-score are ill-defined and being set to 0.0 in labels with no predicted samples. Use `zero_division` parameter to control this behavior.\n",
      "  _warn_prf(average, modifier, msg_start, len(result))\n",
      "/Users/valena17/psych_nlp/psych_note_venv/lib/python3.8/site-packages/sklearn/metrics/_classification.py:1334: UndefinedMetricWarning: Precision and F-score are ill-defined and being set to 0.0 in labels with no predicted samples. Use `zero_division` parameter to control this behavior.\n",
      "  _warn_prf(average, modifier, msg_start, len(result))\n"
     ]
    },
    {
     "name": "stdout",
     "output_type": "stream",
     "text": [
      "              precision    recall  f1-score   support\n",
      "\n",
      "           0       0.67      1.00      0.80         4\n",
      "           1       1.00      0.50      0.67         4\n",
      "           2       1.00      1.00      1.00         2\n",
      "\n",
      "    accuracy                           0.80        10\n",
      "   macro avg       0.89      0.83      0.82        10\n",
      "weighted avg       0.87      0.80      0.79        10\n",
      "\n"
     ]
    },
    {
     "data": {
      "text/html": [
       "\n",
       "    <div>\n",
       "      \n",
       "      <progress value='1' max='3' style='width:300px; height:20px; vertical-align: middle;'></progress>\n",
       "      [1/3 : < :]\n",
       "    </div>\n",
       "    "
      ],
      "text/plain": [
       "<IPython.core.display.HTML object>"
      ]
     },
     "metadata": {},
     "output_type": "display_data"
    },
    {
     "name": "stdout",
     "output_type": "stream",
     "text": [
      "              precision    recall  f1-score   support\n",
      "\n",
      "           0       0.67      1.00      0.80         4\n",
      "           1       1.00      0.50      0.67         4\n",
      "           2       1.00      1.00      1.00         2\n",
      "\n",
      "    accuracy                           0.80        10\n",
      "   macro avg       0.89      0.83      0.82        10\n",
      "weighted avg       0.87      0.80      0.79        10\n",
      "\n",
      "----------------------------------------------------------------------------------------------------\n",
      "\n",
      "\n",
      "\n",
      "Parameters: {'batch_size': 4, 'epochs': 2, 'learning_rate': 0.0001, 'warmup_ratio': 0, 'weight_decay': 0.1}\n"
     ]
    },
    {
     "name": "stderr",
     "output_type": "stream",
     "text": [
      "/Users/valena17/psych_nlp/psych_note_venv/lib/python3.8/site-packages/transformers/optimization.py:407: FutureWarning: This implementation of AdamW is deprecated and will be removed in a future version. Use the PyTorch implementation torch.optim.AdamW instead, or set `no_deprecation_warning=True` to disable this warning\n",
      "  warnings.warn(\n"
     ]
    },
    {
     "data": {
      "text/html": [
       "\n",
       "    <div>\n",
       "      \n",
       "      <progress value='2' max='12' style='width:300px; height:20px; vertical-align: middle;'></progress>\n",
       "      [ 2/12 : < :, Epoch 0.17/2]\n",
       "    </div>\n",
       "    <table border=\"1\" class=\"dataframe\">\n",
       "  <thead>\n",
       " <tr style=\"text-align: left;\">\n",
       "      <th>Epoch</th>\n",
       "      <th>Training Loss</th>\n",
       "      <th>Validation Loss</th>\n",
       "    </tr>\n",
       "  </thead>\n",
       "  <tbody>\n",
       "  </tbody>\n",
       "</table><p>"
      ],
      "text/plain": [
       "<IPython.core.display.HTML object>"
      ]
     },
     "metadata": {},
     "output_type": "display_data"
    },
    {
     "name": "stdout",
     "output_type": "stream",
     "text": [
      "              precision    recall  f1-score   support\n",
      "\n",
      "           0       0.00      0.00      0.00         4\n",
      "           1       0.60      0.75      0.67         4\n",
      "           2       0.50      1.00      0.67         2\n",
      "\n",
      "    accuracy                           0.50        10\n",
      "   macro avg       0.37      0.58      0.44        10\n",
      "weighted avg       0.34      0.50      0.40        10\n",
      "\n",
      "              precision    recall  f1-score   support\n",
      "\n",
      "           0       0.67      0.50      0.57         4\n",
      "           1       1.00      0.75      0.86         4\n",
      "           2       0.50      1.00      0.67         2\n",
      "\n",
      "    accuracy                           0.70        10\n",
      "   macro avg       0.72      0.75      0.70        10\n",
      "weighted avg       0.77      0.70      0.70        10\n",
      "\n"
     ]
    },
    {
     "data": {
      "text/html": [
       "\n",
       "    <div>\n",
       "      \n",
       "      <progress value='1' max='3' style='width:300px; height:20px; vertical-align: middle;'></progress>\n",
       "      [1/3 : < :]\n",
       "    </div>\n",
       "    "
      ],
      "text/plain": [
       "<IPython.core.display.HTML object>"
      ]
     },
     "metadata": {},
     "output_type": "display_data"
    },
    {
     "name": "stdout",
     "output_type": "stream",
     "text": [
      "              precision    recall  f1-score   support\n",
      "\n",
      "           0       0.67      0.50      0.57         4\n",
      "           1       1.00      0.75      0.86         4\n",
      "           2       0.50      1.00      0.67         2\n",
      "\n",
      "    accuracy                           0.70        10\n",
      "   macro avg       0.72      0.75      0.70        10\n",
      "weighted avg       0.77      0.70      0.70        10\n",
      "\n",
      "----------------------------------------------------------------------------------------------------\n",
      "\n",
      "\n",
      "\n",
      "Parameters: {'batch_size': 4, 'epochs': 2, 'learning_rate': 0.0001, 'warmup_ratio': 0.1, 'weight_decay': 0}\n"
     ]
    },
    {
     "name": "stderr",
     "output_type": "stream",
     "text": [
      "/Users/valena17/psych_nlp/psych_note_venv/lib/python3.8/site-packages/transformers/optimization.py:407: FutureWarning: This implementation of AdamW is deprecated and will be removed in a future version. Use the PyTorch implementation torch.optim.AdamW instead, or set `no_deprecation_warning=True` to disable this warning\n",
      "  warnings.warn(\n"
     ]
    },
    {
     "data": {
      "text/html": [
       "\n",
       "    <div>\n",
       "      \n",
       "      <progress value='2' max='12' style='width:300px; height:20px; vertical-align: middle;'></progress>\n",
       "      [ 2/12 : < :, Epoch 0.17/2]\n",
       "    </div>\n",
       "    <table border=\"1\" class=\"dataframe\">\n",
       "  <thead>\n",
       " <tr style=\"text-align: left;\">\n",
       "      <th>Epoch</th>\n",
       "      <th>Training Loss</th>\n",
       "      <th>Validation Loss</th>\n",
       "    </tr>\n",
       "  </thead>\n",
       "  <tbody>\n",
       "  </tbody>\n",
       "</table><p>"
      ],
      "text/plain": [
       "<IPython.core.display.HTML object>"
      ]
     },
     "metadata": {},
     "output_type": "display_data"
    },
    {
     "name": "stdout",
     "output_type": "stream",
     "text": [
      "              precision    recall  f1-score   support\n",
      "\n",
      "           0       0.00      0.00      0.00         4\n",
      "           1       0.60      0.75      0.67         4\n",
      "           2       0.50      1.00      0.67         2\n",
      "\n",
      "    accuracy                           0.50        10\n",
      "   macro avg       0.37      0.58      0.44        10\n",
      "weighted avg       0.34      0.50      0.40        10\n",
      "\n",
      "              precision    recall  f1-score   support\n",
      "\n",
      "           0       0.67      0.50      0.57         4\n",
      "           1       1.00      0.75      0.86         4\n",
      "           2       0.50      1.00      0.67         2\n",
      "\n",
      "    accuracy                           0.70        10\n",
      "   macro avg       0.72      0.75      0.70        10\n",
      "weighted avg       0.77      0.70      0.70        10\n",
      "\n"
     ]
    },
    {
     "data": {
      "text/html": [
       "\n",
       "    <div>\n",
       "      \n",
       "      <progress value='1' max='3' style='width:300px; height:20px; vertical-align: middle;'></progress>\n",
       "      [1/3 : < :]\n",
       "    </div>\n",
       "    "
      ],
      "text/plain": [
       "<IPython.core.display.HTML object>"
      ]
     },
     "metadata": {},
     "output_type": "display_data"
    },
    {
     "name": "stdout",
     "output_type": "stream",
     "text": [
      "              precision    recall  f1-score   support\n",
      "\n",
      "           0       0.67      0.50      0.57         4\n",
      "           1       1.00      0.75      0.86         4\n",
      "           2       0.50      1.00      0.67         2\n",
      "\n",
      "    accuracy                           0.70        10\n",
      "   macro avg       0.72      0.75      0.70        10\n",
      "weighted avg       0.77      0.70      0.70        10\n",
      "\n",
      "----------------------------------------------------------------------------------------------------\n",
      "\n",
      "\n",
      "\n",
      "Parameters: {'batch_size': 4, 'epochs': 2, 'learning_rate': 0.0001, 'warmup_ratio': 0.1, 'weight_decay': 0.1}\n"
     ]
    },
    {
     "name": "stderr",
     "output_type": "stream",
     "text": [
      "/Users/valena17/psych_nlp/psych_note_venv/lib/python3.8/site-packages/transformers/optimization.py:407: FutureWarning: This implementation of AdamW is deprecated and will be removed in a future version. Use the PyTorch implementation torch.optim.AdamW instead, or set `no_deprecation_warning=True` to disable this warning\n",
      "  warnings.warn(\n"
     ]
    },
    {
     "data": {
      "text/html": [
       "\n",
       "    <div>\n",
       "      \n",
       "      <progress value='2' max='12' style='width:300px; height:20px; vertical-align: middle;'></progress>\n",
       "      [ 2/12 : < :, Epoch 0.17/2]\n",
       "    </div>\n",
       "    <table border=\"1\" class=\"dataframe\">\n",
       "  <thead>\n",
       " <tr style=\"text-align: left;\">\n",
       "      <th>Epoch</th>\n",
       "      <th>Training Loss</th>\n",
       "      <th>Validation Loss</th>\n",
       "    </tr>\n",
       "  </thead>\n",
       "  <tbody>\n",
       "  </tbody>\n",
       "</table><p>"
      ],
      "text/plain": [
       "<IPython.core.display.HTML object>"
      ]
     },
     "metadata": {},
     "output_type": "display_data"
    },
    {
     "name": "stdout",
     "output_type": "stream",
     "text": [
      "              precision    recall  f1-score   support\n",
      "\n",
      "           0       0.67      0.50      0.57         4\n",
      "           1       1.00      0.75      0.86         4\n",
      "           2       0.50      1.00      0.67         2\n",
      "\n",
      "    accuracy                           0.70        10\n",
      "   macro avg       0.72      0.75      0.70        10\n",
      "weighted avg       0.77      0.70      0.70        10\n",
      "\n",
      "              precision    recall  f1-score   support\n",
      "\n",
      "           0       0.67      0.50      0.57         4\n",
      "           1       1.00      0.75      0.86         4\n",
      "           2       0.50      1.00      0.67         2\n",
      "\n",
      "    accuracy                           0.70        10\n",
      "   macro avg       0.72      0.75      0.70        10\n",
      "weighted avg       0.77      0.70      0.70        10\n",
      "\n"
     ]
    },
    {
     "data": {
      "text/html": [
       "\n",
       "    <div>\n",
       "      \n",
       "      <progress value='1' max='3' style='width:300px; height:20px; vertical-align: middle;'></progress>\n",
       "      [1/3 : < :]\n",
       "    </div>\n",
       "    "
      ],
      "text/plain": [
       "<IPython.core.display.HTML object>"
      ]
     },
     "metadata": {},
     "output_type": "display_data"
    },
    {
     "name": "stdout",
     "output_type": "stream",
     "text": [
      "              precision    recall  f1-score   support\n",
      "\n",
      "           0       0.67      0.50      0.57         4\n",
      "           1       1.00      0.75      0.86         4\n",
      "           2       0.50      1.00      0.67         2\n",
      "\n",
      "    accuracy                           0.70        10\n",
      "   macro avg       0.72      0.75      0.70        10\n",
      "weighted avg       0.77      0.70      0.70        10\n",
      "\n",
      "----------------------------------------------------------------------------------------------------\n",
      "\n",
      "\n",
      "\n",
      "Parameters: {'batch_size': 4, 'epochs': 4, 'learning_rate': 5e-06, 'warmup_ratio': 0, 'weight_decay': 0}\n"
     ]
    },
    {
     "name": "stderr",
     "output_type": "stream",
     "text": [
      "/Users/valena17/psych_nlp/psych_note_venv/lib/python3.8/site-packages/transformers/optimization.py:407: FutureWarning: This implementation of AdamW is deprecated and will be removed in a future version. Use the PyTorch implementation torch.optim.AdamW instead, or set `no_deprecation_warning=True` to disable this warning\n",
      "  warnings.warn(\n"
     ]
    },
    {
     "data": {
      "text/html": [
       "\n",
       "    <div>\n",
       "      \n",
       "      <progress value='2' max='24' style='width:300px; height:20px; vertical-align: middle;'></progress>\n",
       "      [ 2/24 : < :, Epoch 0.17/4]\n",
       "    </div>\n",
       "    <table border=\"1\" class=\"dataframe\">\n",
       "  <thead>\n",
       " <tr style=\"text-align: left;\">\n",
       "      <th>Epoch</th>\n",
       "      <th>Training Loss</th>\n",
       "      <th>Validation Loss</th>\n",
       "    </tr>\n",
       "  </thead>\n",
       "  <tbody>\n",
       "  </tbody>\n",
       "</table><p>"
      ],
      "text/plain": [
       "<IPython.core.display.HTML object>"
      ]
     },
     "metadata": {},
     "output_type": "display_data"
    },
    {
     "name": "stdout",
     "output_type": "stream",
     "text": [
      "              precision    recall  f1-score   support\n",
      "\n",
      "           0       0.67      0.50      0.57         4\n",
      "           1       1.00      0.75      0.86         4\n",
      "           2       0.50      1.00      0.67         2\n",
      "\n",
      "    accuracy                           0.70        10\n",
      "   macro avg       0.72      0.75      0.70        10\n",
      "weighted avg       0.77      0.70      0.70        10\n",
      "\n",
      "              precision    recall  f1-score   support\n",
      "\n",
      "           0       0.67      0.50      0.57         4\n",
      "           1       1.00      0.75      0.86         4\n",
      "           2       0.50      1.00      0.67         2\n",
      "\n",
      "    accuracy                           0.70        10\n",
      "   macro avg       0.72      0.75      0.70        10\n",
      "weighted avg       0.77      0.70      0.70        10\n",
      "\n",
      "              precision    recall  f1-score   support\n",
      "\n",
      "           0       0.67      0.50      0.57         4\n",
      "           1       1.00      0.75      0.86         4\n",
      "           2       0.50      1.00      0.67         2\n",
      "\n",
      "    accuracy                           0.70        10\n",
      "   macro avg       0.72      0.75      0.70        10\n",
      "weighted avg       0.77      0.70      0.70        10\n",
      "\n",
      "              precision    recall  f1-score   support\n",
      "\n",
      "           0       0.67      0.50      0.57         4\n",
      "           1       1.00      0.75      0.86         4\n",
      "           2       0.50      1.00      0.67         2\n",
      "\n",
      "    accuracy                           0.70        10\n",
      "   macro avg       0.72      0.75      0.70        10\n",
      "weighted avg       0.77      0.70      0.70        10\n",
      "\n"
     ]
    },
    {
     "data": {
      "text/html": [
       "\n",
       "    <div>\n",
       "      \n",
       "      <progress value='1' max='3' style='width:300px; height:20px; vertical-align: middle;'></progress>\n",
       "      [1/3 : < :]\n",
       "    </div>\n",
       "    "
      ],
      "text/plain": [
       "<IPython.core.display.HTML object>"
      ]
     },
     "metadata": {},
     "output_type": "display_data"
    },
    {
     "name": "stdout",
     "output_type": "stream",
     "text": [
      "              precision    recall  f1-score   support\n",
      "\n",
      "           0       0.67      0.50      0.57         4\n",
      "           1       1.00      0.75      0.86         4\n",
      "           2       0.50      1.00      0.67         2\n",
      "\n",
      "    accuracy                           0.70        10\n",
      "   macro avg       0.72      0.75      0.70        10\n",
      "weighted avg       0.77      0.70      0.70        10\n",
      "\n",
      "----------------------------------------------------------------------------------------------------\n",
      "\n",
      "\n",
      "\n",
      "Parameters: {'batch_size': 4, 'epochs': 4, 'learning_rate': 5e-06, 'warmup_ratio': 0, 'weight_decay': 0.1}\n"
     ]
    },
    {
     "name": "stderr",
     "output_type": "stream",
     "text": [
      "/Users/valena17/psych_nlp/psych_note_venv/lib/python3.8/site-packages/transformers/optimization.py:407: FutureWarning: This implementation of AdamW is deprecated and will be removed in a future version. Use the PyTorch implementation torch.optim.AdamW instead, or set `no_deprecation_warning=True` to disable this warning\n",
      "  warnings.warn(\n"
     ]
    },
    {
     "data": {
      "text/html": [
       "\n",
       "    <div>\n",
       "      \n",
       "      <progress value='2' max='24' style='width:300px; height:20px; vertical-align: middle;'></progress>\n",
       "      [ 2/24 : < :, Epoch 0.17/4]\n",
       "    </div>\n",
       "    <table border=\"1\" class=\"dataframe\">\n",
       "  <thead>\n",
       " <tr style=\"text-align: left;\">\n",
       "      <th>Epoch</th>\n",
       "      <th>Training Loss</th>\n",
       "      <th>Validation Loss</th>\n",
       "    </tr>\n",
       "  </thead>\n",
       "  <tbody>\n",
       "  </tbody>\n",
       "</table><p>"
      ],
      "text/plain": [
       "<IPython.core.display.HTML object>"
      ]
     },
     "metadata": {},
     "output_type": "display_data"
    },
    {
     "name": "stdout",
     "output_type": "stream",
     "text": [
      "              precision    recall  f1-score   support\n",
      "\n",
      "           0       0.67      0.50      0.57         4\n",
      "           1       1.00      0.75      0.86         4\n",
      "           2       0.50      1.00      0.67         2\n",
      "\n",
      "    accuracy                           0.70        10\n",
      "   macro avg       0.72      0.75      0.70        10\n",
      "weighted avg       0.77      0.70      0.70        10\n",
      "\n",
      "              precision    recall  f1-score   support\n",
      "\n",
      "           0       0.67      0.50      0.57         4\n",
      "           1       1.00      0.75      0.86         4\n",
      "           2       0.50      1.00      0.67         2\n",
      "\n",
      "    accuracy                           0.70        10\n",
      "   macro avg       0.72      0.75      0.70        10\n",
      "weighted avg       0.77      0.70      0.70        10\n",
      "\n",
      "              precision    recall  f1-score   support\n",
      "\n",
      "           0       0.67      0.50      0.57         4\n",
      "           1       1.00      0.75      0.86         4\n",
      "           2       0.50      1.00      0.67         2\n",
      "\n",
      "    accuracy                           0.70        10\n",
      "   macro avg       0.72      0.75      0.70        10\n",
      "weighted avg       0.77      0.70      0.70        10\n",
      "\n",
      "              precision    recall  f1-score   support\n",
      "\n",
      "           0       0.67      0.50      0.57         4\n",
      "           1       1.00      0.75      0.86         4\n",
      "           2       0.50      1.00      0.67         2\n",
      "\n",
      "    accuracy                           0.70        10\n",
      "   macro avg       0.72      0.75      0.70        10\n",
      "weighted avg       0.77      0.70      0.70        10\n",
      "\n"
     ]
    },
    {
     "data": {
      "text/html": [
       "\n",
       "    <div>\n",
       "      \n",
       "      <progress value='1' max='3' style='width:300px; height:20px; vertical-align: middle;'></progress>\n",
       "      [1/3 : < :]\n",
       "    </div>\n",
       "    "
      ],
      "text/plain": [
       "<IPython.core.display.HTML object>"
      ]
     },
     "metadata": {},
     "output_type": "display_data"
    },
    {
     "name": "stdout",
     "output_type": "stream",
     "text": [
      "              precision    recall  f1-score   support\n",
      "\n",
      "           0       0.67      0.50      0.57         4\n",
      "           1       1.00      0.75      0.86         4\n",
      "           2       0.50      1.00      0.67         2\n",
      "\n",
      "    accuracy                           0.70        10\n",
      "   macro avg       0.72      0.75      0.70        10\n",
      "weighted avg       0.77      0.70      0.70        10\n",
      "\n",
      "----------------------------------------------------------------------------------------------------\n",
      "\n",
      "\n",
      "\n",
      "Parameters: {'batch_size': 4, 'epochs': 4, 'learning_rate': 5e-06, 'warmup_ratio': 0.1, 'weight_decay': 0}\n"
     ]
    },
    {
     "name": "stderr",
     "output_type": "stream",
     "text": [
      "/Users/valena17/psych_nlp/psych_note_venv/lib/python3.8/site-packages/transformers/optimization.py:407: FutureWarning: This implementation of AdamW is deprecated and will be removed in a future version. Use the PyTorch implementation torch.optim.AdamW instead, or set `no_deprecation_warning=True` to disable this warning\n",
      "  warnings.warn(\n"
     ]
    },
    {
     "data": {
      "text/html": [
       "\n",
       "    <div>\n",
       "      \n",
       "      <progress value='2' max='24' style='width:300px; height:20px; vertical-align: middle;'></progress>\n",
       "      [ 2/24 : < :, Epoch 0.17/4]\n",
       "    </div>\n",
       "    <table border=\"1\" class=\"dataframe\">\n",
       "  <thead>\n",
       " <tr style=\"text-align: left;\">\n",
       "      <th>Epoch</th>\n",
       "      <th>Training Loss</th>\n",
       "      <th>Validation Loss</th>\n",
       "    </tr>\n",
       "  </thead>\n",
       "  <tbody>\n",
       "  </tbody>\n",
       "</table><p>"
      ],
      "text/plain": [
       "<IPython.core.display.HTML object>"
      ]
     },
     "metadata": {},
     "output_type": "display_data"
    },
    {
     "name": "stdout",
     "output_type": "stream",
     "text": [
      "              precision    recall  f1-score   support\n",
      "\n",
      "           0       0.67      0.50      0.57         4\n",
      "           1       1.00      0.75      0.86         4\n",
      "           2       0.50      1.00      0.67         2\n",
      "\n",
      "    accuracy                           0.70        10\n",
      "   macro avg       0.72      0.75      0.70        10\n",
      "weighted avg       0.77      0.70      0.70        10\n",
      "\n",
      "              precision    recall  f1-score   support\n",
      "\n",
      "           0       0.67      0.50      0.57         4\n",
      "           1       1.00      0.75      0.86         4\n",
      "           2       0.50      1.00      0.67         2\n",
      "\n",
      "    accuracy                           0.70        10\n",
      "   macro avg       0.72      0.75      0.70        10\n",
      "weighted avg       0.77      0.70      0.70        10\n",
      "\n",
      "              precision    recall  f1-score   support\n",
      "\n",
      "           0       0.67      0.50      0.57         4\n",
      "           1       1.00      0.75      0.86         4\n",
      "           2       0.50      1.00      0.67         2\n",
      "\n",
      "    accuracy                           0.70        10\n",
      "   macro avg       0.72      0.75      0.70        10\n",
      "weighted avg       0.77      0.70      0.70        10\n",
      "\n",
      "              precision    recall  f1-score   support\n",
      "\n",
      "           0       0.67      0.50      0.57         4\n",
      "           1       1.00      0.75      0.86         4\n",
      "           2       0.50      1.00      0.67         2\n",
      "\n",
      "    accuracy                           0.70        10\n",
      "   macro avg       0.72      0.75      0.70        10\n",
      "weighted avg       0.77      0.70      0.70        10\n",
      "\n"
     ]
    },
    {
     "data": {
      "text/html": [
       "\n",
       "    <div>\n",
       "      \n",
       "      <progress value='1' max='3' style='width:300px; height:20px; vertical-align: middle;'></progress>\n",
       "      [1/3 : < :]\n",
       "    </div>\n",
       "    "
      ],
      "text/plain": [
       "<IPython.core.display.HTML object>"
      ]
     },
     "metadata": {},
     "output_type": "display_data"
    },
    {
     "name": "stdout",
     "output_type": "stream",
     "text": [
      "              precision    recall  f1-score   support\n",
      "\n",
      "           0       0.67      0.50      0.57         4\n",
      "           1       1.00      0.75      0.86         4\n",
      "           2       0.50      1.00      0.67         2\n",
      "\n",
      "    accuracy                           0.70        10\n",
      "   macro avg       0.72      0.75      0.70        10\n",
      "weighted avg       0.77      0.70      0.70        10\n",
      "\n",
      "----------------------------------------------------------------------------------------------------\n",
      "\n",
      "\n",
      "\n",
      "Parameters: {'batch_size': 4, 'epochs': 4, 'learning_rate': 5e-06, 'warmup_ratio': 0.1, 'weight_decay': 0.1}\n"
     ]
    },
    {
     "name": "stderr",
     "output_type": "stream",
     "text": [
      "/Users/valena17/psych_nlp/psych_note_venv/lib/python3.8/site-packages/transformers/optimization.py:407: FutureWarning: This implementation of AdamW is deprecated and will be removed in a future version. Use the PyTorch implementation torch.optim.AdamW instead, or set `no_deprecation_warning=True` to disable this warning\n",
      "  warnings.warn(\n"
     ]
    },
    {
     "data": {
      "text/html": [
       "\n",
       "    <div>\n",
       "      \n",
       "      <progress value='2' max='24' style='width:300px; height:20px; vertical-align: middle;'></progress>\n",
       "      [ 2/24 : < :, Epoch 0.17/4]\n",
       "    </div>\n",
       "    <table border=\"1\" class=\"dataframe\">\n",
       "  <thead>\n",
       " <tr style=\"text-align: left;\">\n",
       "      <th>Epoch</th>\n",
       "      <th>Training Loss</th>\n",
       "      <th>Validation Loss</th>\n",
       "    </tr>\n",
       "  </thead>\n",
       "  <tbody>\n",
       "  </tbody>\n",
       "</table><p>"
      ],
      "text/plain": [
       "<IPython.core.display.HTML object>"
      ]
     },
     "metadata": {},
     "output_type": "display_data"
    },
    {
     "name": "stdout",
     "output_type": "stream",
     "text": [
      "              precision    recall  f1-score   support\n",
      "\n",
      "           0       0.67      0.50      0.57         4\n",
      "           1       1.00      0.75      0.86         4\n",
      "           2       0.50      1.00      0.67         2\n",
      "\n",
      "    accuracy                           0.70        10\n",
      "   macro avg       0.72      0.75      0.70        10\n",
      "weighted avg       0.77      0.70      0.70        10\n",
      "\n",
      "              precision    recall  f1-score   support\n",
      "\n",
      "           0       0.67      0.50      0.57         4\n",
      "           1       1.00      0.75      0.86         4\n",
      "           2       0.50      1.00      0.67         2\n",
      "\n",
      "    accuracy                           0.70        10\n",
      "   macro avg       0.72      0.75      0.70        10\n",
      "weighted avg       0.77      0.70      0.70        10\n",
      "\n",
      "              precision    recall  f1-score   support\n",
      "\n",
      "           0       0.67      0.50      0.57         4\n",
      "           1       1.00      0.75      0.86         4\n",
      "           2       0.50      1.00      0.67         2\n",
      "\n",
      "    accuracy                           0.70        10\n",
      "   macro avg       0.72      0.75      0.70        10\n",
      "weighted avg       0.77      0.70      0.70        10\n",
      "\n",
      "              precision    recall  f1-score   support\n",
      "\n",
      "           0       0.67      0.50      0.57         4\n",
      "           1       1.00      0.75      0.86         4\n",
      "           2       0.50      1.00      0.67         2\n",
      "\n",
      "    accuracy                           0.70        10\n",
      "   macro avg       0.72      0.75      0.70        10\n",
      "weighted avg       0.77      0.70      0.70        10\n",
      "\n"
     ]
    },
    {
     "data": {
      "text/html": [
       "\n",
       "    <div>\n",
       "      \n",
       "      <progress value='1' max='3' style='width:300px; height:20px; vertical-align: middle;'></progress>\n",
       "      [1/3 : < :]\n",
       "    </div>\n",
       "    "
      ],
      "text/plain": [
       "<IPython.core.display.HTML object>"
      ]
     },
     "metadata": {},
     "output_type": "display_data"
    },
    {
     "name": "stdout",
     "output_type": "stream",
     "text": [
      "              precision    recall  f1-score   support\n",
      "\n",
      "           0       0.67      0.50      0.57         4\n",
      "           1       1.00      0.75      0.86         4\n",
      "           2       0.50      1.00      0.67         2\n",
      "\n",
      "    accuracy                           0.70        10\n",
      "   macro avg       0.72      0.75      0.70        10\n",
      "weighted avg       0.77      0.70      0.70        10\n",
      "\n",
      "----------------------------------------------------------------------------------------------------\n",
      "\n",
      "\n",
      "\n",
      "Parameters: {'batch_size': 4, 'epochs': 4, 'learning_rate': 1e-05, 'warmup_ratio': 0, 'weight_decay': 0}\n"
     ]
    },
    {
     "name": "stderr",
     "output_type": "stream",
     "text": [
      "/Users/valena17/psych_nlp/psych_note_venv/lib/python3.8/site-packages/transformers/optimization.py:407: FutureWarning: This implementation of AdamW is deprecated and will be removed in a future version. Use the PyTorch implementation torch.optim.AdamW instead, or set `no_deprecation_warning=True` to disable this warning\n",
      "  warnings.warn(\n"
     ]
    },
    {
     "data": {
      "text/html": [
       "\n",
       "    <div>\n",
       "      \n",
       "      <progress value='2' max='24' style='width:300px; height:20px; vertical-align: middle;'></progress>\n",
       "      [ 2/24 : < :, Epoch 0.17/4]\n",
       "    </div>\n",
       "    <table border=\"1\" class=\"dataframe\">\n",
       "  <thead>\n",
       " <tr style=\"text-align: left;\">\n",
       "      <th>Epoch</th>\n",
       "      <th>Training Loss</th>\n",
       "      <th>Validation Loss</th>\n",
       "    </tr>\n",
       "  </thead>\n",
       "  <tbody>\n",
       "  </tbody>\n",
       "</table><p>"
      ],
      "text/plain": [
       "<IPython.core.display.HTML object>"
      ]
     },
     "metadata": {},
     "output_type": "display_data"
    },
    {
     "name": "stdout",
     "output_type": "stream",
     "text": [
      "              precision    recall  f1-score   support\n",
      "\n",
      "           0       0.67      0.50      0.57         4\n",
      "           1       1.00      0.75      0.86         4\n",
      "           2       0.50      1.00      0.67         2\n",
      "\n",
      "    accuracy                           0.70        10\n",
      "   macro avg       0.72      0.75      0.70        10\n",
      "weighted avg       0.77      0.70      0.70        10\n",
      "\n",
      "              precision    recall  f1-score   support\n",
      "\n",
      "           0       0.67      0.50      0.57         4\n",
      "           1       1.00      0.75      0.86         4\n",
      "           2       0.50      1.00      0.67         2\n",
      "\n",
      "    accuracy                           0.70        10\n",
      "   macro avg       0.72      0.75      0.70        10\n",
      "weighted avg       0.77      0.70      0.70        10\n",
      "\n",
      "              precision    recall  f1-score   support\n",
      "\n",
      "           0       0.67      0.50      0.57         4\n",
      "           1       1.00      0.75      0.86         4\n",
      "           2       0.50      1.00      0.67         2\n",
      "\n",
      "    accuracy                           0.70        10\n",
      "   macro avg       0.72      0.75      0.70        10\n",
      "weighted avg       0.77      0.70      0.70        10\n",
      "\n",
      "              precision    recall  f1-score   support\n",
      "\n",
      "           0       0.67      0.50      0.57         4\n",
      "           1       1.00      0.75      0.86         4\n",
      "           2       0.50      1.00      0.67         2\n",
      "\n",
      "    accuracy                           0.70        10\n",
      "   macro avg       0.72      0.75      0.70        10\n",
      "weighted avg       0.77      0.70      0.70        10\n",
      "\n"
     ]
    },
    {
     "data": {
      "text/html": [
       "\n",
       "    <div>\n",
       "      \n",
       "      <progress value='1' max='3' style='width:300px; height:20px; vertical-align: middle;'></progress>\n",
       "      [1/3 : < :]\n",
       "    </div>\n",
       "    "
      ],
      "text/plain": [
       "<IPython.core.display.HTML object>"
      ]
     },
     "metadata": {},
     "output_type": "display_data"
    },
    {
     "name": "stdout",
     "output_type": "stream",
     "text": [
      "              precision    recall  f1-score   support\n",
      "\n",
      "           0       0.67      0.50      0.57         4\n",
      "           1       1.00      0.75      0.86         4\n",
      "           2       0.50      1.00      0.67         2\n",
      "\n",
      "    accuracy                           0.70        10\n",
      "   macro avg       0.72      0.75      0.70        10\n",
      "weighted avg       0.77      0.70      0.70        10\n",
      "\n",
      "----------------------------------------------------------------------------------------------------\n",
      "\n",
      "\n",
      "\n",
      "Parameters: {'batch_size': 4, 'epochs': 4, 'learning_rate': 1e-05, 'warmup_ratio': 0, 'weight_decay': 0.1}\n"
     ]
    },
    {
     "name": "stderr",
     "output_type": "stream",
     "text": [
      "/Users/valena17/psych_nlp/psych_note_venv/lib/python3.8/site-packages/transformers/optimization.py:407: FutureWarning: This implementation of AdamW is deprecated and will be removed in a future version. Use the PyTorch implementation torch.optim.AdamW instead, or set `no_deprecation_warning=True` to disable this warning\n",
      "  warnings.warn(\n"
     ]
    },
    {
     "data": {
      "text/html": [
       "\n",
       "    <div>\n",
       "      \n",
       "      <progress value='2' max='24' style='width:300px; height:20px; vertical-align: middle;'></progress>\n",
       "      [ 2/24 : < :, Epoch 0.17/4]\n",
       "    </div>\n",
       "    <table border=\"1\" class=\"dataframe\">\n",
       "  <thead>\n",
       " <tr style=\"text-align: left;\">\n",
       "      <th>Epoch</th>\n",
       "      <th>Training Loss</th>\n",
       "      <th>Validation Loss</th>\n",
       "    </tr>\n",
       "  </thead>\n",
       "  <tbody>\n",
       "  </tbody>\n",
       "</table><p>"
      ],
      "text/plain": [
       "<IPython.core.display.HTML object>"
      ]
     },
     "metadata": {},
     "output_type": "display_data"
    },
    {
     "name": "stdout",
     "output_type": "stream",
     "text": [
      "              precision    recall  f1-score   support\n",
      "\n",
      "           0       0.67      0.50      0.57         4\n",
      "           1       1.00      0.75      0.86         4\n",
      "           2       0.50      1.00      0.67         2\n",
      "\n",
      "    accuracy                           0.70        10\n",
      "   macro avg       0.72      0.75      0.70        10\n",
      "weighted avg       0.77      0.70      0.70        10\n",
      "\n",
      "              precision    recall  f1-score   support\n",
      "\n",
      "           0       0.67      0.50      0.57         4\n",
      "           1       1.00      0.75      0.86         4\n",
      "           2       0.50      1.00      0.67         2\n",
      "\n",
      "    accuracy                           0.70        10\n",
      "   macro avg       0.72      0.75      0.70        10\n",
      "weighted avg       0.77      0.70      0.70        10\n",
      "\n",
      "              precision    recall  f1-score   support\n",
      "\n",
      "           0       0.67      0.50      0.57         4\n",
      "           1       1.00      0.75      0.86         4\n",
      "           2       0.50      1.00      0.67         2\n",
      "\n",
      "    accuracy                           0.70        10\n",
      "   macro avg       0.72      0.75      0.70        10\n",
      "weighted avg       0.77      0.70      0.70        10\n",
      "\n",
      "              precision    recall  f1-score   support\n",
      "\n",
      "           0       0.67      0.50      0.57         4\n",
      "           1       1.00      0.75      0.86         4\n",
      "           2       0.50      1.00      0.67         2\n",
      "\n",
      "    accuracy                           0.70        10\n",
      "   macro avg       0.72      0.75      0.70        10\n",
      "weighted avg       0.77      0.70      0.70        10\n",
      "\n"
     ]
    },
    {
     "data": {
      "text/html": [
       "\n",
       "    <div>\n",
       "      \n",
       "      <progress value='1' max='3' style='width:300px; height:20px; vertical-align: middle;'></progress>\n",
       "      [1/3 : < :]\n",
       "    </div>\n",
       "    "
      ],
      "text/plain": [
       "<IPython.core.display.HTML object>"
      ]
     },
     "metadata": {},
     "output_type": "display_data"
    },
    {
     "name": "stdout",
     "output_type": "stream",
     "text": [
      "              precision    recall  f1-score   support\n",
      "\n",
      "           0       0.67      0.50      0.57         4\n",
      "           1       1.00      0.75      0.86         4\n",
      "           2       0.50      1.00      0.67         2\n",
      "\n",
      "    accuracy                           0.70        10\n",
      "   macro avg       0.72      0.75      0.70        10\n",
      "weighted avg       0.77      0.70      0.70        10\n",
      "\n",
      "----------------------------------------------------------------------------------------------------\n",
      "\n",
      "\n",
      "\n",
      "Parameters: {'batch_size': 4, 'epochs': 4, 'learning_rate': 1e-05, 'warmup_ratio': 0.1, 'weight_decay': 0}\n"
     ]
    },
    {
     "name": "stderr",
     "output_type": "stream",
     "text": [
      "/Users/valena17/psych_nlp/psych_note_venv/lib/python3.8/site-packages/transformers/optimization.py:407: FutureWarning: This implementation of AdamW is deprecated and will be removed in a future version. Use the PyTorch implementation torch.optim.AdamW instead, or set `no_deprecation_warning=True` to disable this warning\n",
      "  warnings.warn(\n"
     ]
    },
    {
     "data": {
      "text/html": [
       "\n",
       "    <div>\n",
       "      \n",
       "      <progress value='2' max='24' style='width:300px; height:20px; vertical-align: middle;'></progress>\n",
       "      [ 2/24 : < :, Epoch 0.17/4]\n",
       "    </div>\n",
       "    <table border=\"1\" class=\"dataframe\">\n",
       "  <thead>\n",
       " <tr style=\"text-align: left;\">\n",
       "      <th>Epoch</th>\n",
       "      <th>Training Loss</th>\n",
       "      <th>Validation Loss</th>\n",
       "    </tr>\n",
       "  </thead>\n",
       "  <tbody>\n",
       "  </tbody>\n",
       "</table><p>"
      ],
      "text/plain": [
       "<IPython.core.display.HTML object>"
      ]
     },
     "metadata": {},
     "output_type": "display_data"
    },
    {
     "name": "stdout",
     "output_type": "stream",
     "text": [
      "              precision    recall  f1-score   support\n",
      "\n",
      "           0       0.67      0.50      0.57         4\n",
      "           1       1.00      0.75      0.86         4\n",
      "           2       0.50      1.00      0.67         2\n",
      "\n",
      "    accuracy                           0.70        10\n",
      "   macro avg       0.72      0.75      0.70        10\n",
      "weighted avg       0.77      0.70      0.70        10\n",
      "\n",
      "              precision    recall  f1-score   support\n",
      "\n",
      "           0       0.67      0.50      0.57         4\n",
      "           1       1.00      0.75      0.86         4\n",
      "           2       0.50      1.00      0.67         2\n",
      "\n",
      "    accuracy                           0.70        10\n",
      "   macro avg       0.72      0.75      0.70        10\n",
      "weighted avg       0.77      0.70      0.70        10\n",
      "\n",
      "              precision    recall  f1-score   support\n",
      "\n",
      "           0       0.67      0.50      0.57         4\n",
      "           1       1.00      0.75      0.86         4\n",
      "           2       0.50      1.00      0.67         2\n",
      "\n",
      "    accuracy                           0.70        10\n",
      "   macro avg       0.72      0.75      0.70        10\n",
      "weighted avg       0.77      0.70      0.70        10\n",
      "\n",
      "              precision    recall  f1-score   support\n",
      "\n",
      "           0       0.67      0.50      0.57         4\n",
      "           1       1.00      0.75      0.86         4\n",
      "           2       0.50      1.00      0.67         2\n",
      "\n",
      "    accuracy                           0.70        10\n",
      "   macro avg       0.72      0.75      0.70        10\n",
      "weighted avg       0.77      0.70      0.70        10\n",
      "\n"
     ]
    },
    {
     "data": {
      "text/html": [
       "\n",
       "    <div>\n",
       "      \n",
       "      <progress value='1' max='3' style='width:300px; height:20px; vertical-align: middle;'></progress>\n",
       "      [1/3 : < :]\n",
       "    </div>\n",
       "    "
      ],
      "text/plain": [
       "<IPython.core.display.HTML object>"
      ]
     },
     "metadata": {},
     "output_type": "display_data"
    },
    {
     "name": "stdout",
     "output_type": "stream",
     "text": [
      "              precision    recall  f1-score   support\n",
      "\n",
      "           0       0.67      0.50      0.57         4\n",
      "           1       1.00      0.75      0.86         4\n",
      "           2       0.50      1.00      0.67         2\n",
      "\n",
      "    accuracy                           0.70        10\n",
      "   macro avg       0.72      0.75      0.70        10\n",
      "weighted avg       0.77      0.70      0.70        10\n",
      "\n",
      "----------------------------------------------------------------------------------------------------\n",
      "\n",
      "\n",
      "\n",
      "Parameters: {'batch_size': 4, 'epochs': 4, 'learning_rate': 1e-05, 'warmup_ratio': 0.1, 'weight_decay': 0.1}\n"
     ]
    },
    {
     "name": "stderr",
     "output_type": "stream",
     "text": [
      "/Users/valena17/psych_nlp/psych_note_venv/lib/python3.8/site-packages/transformers/optimization.py:407: FutureWarning: This implementation of AdamW is deprecated and will be removed in a future version. Use the PyTorch implementation torch.optim.AdamW instead, or set `no_deprecation_warning=True` to disable this warning\n",
      "  warnings.warn(\n"
     ]
    },
    {
     "data": {
      "text/html": [
       "\n",
       "    <div>\n",
       "      \n",
       "      <progress value='2' max='24' style='width:300px; height:20px; vertical-align: middle;'></progress>\n",
       "      [ 2/24 : < :, Epoch 0.17/4]\n",
       "    </div>\n",
       "    <table border=\"1\" class=\"dataframe\">\n",
       "  <thead>\n",
       " <tr style=\"text-align: left;\">\n",
       "      <th>Epoch</th>\n",
       "      <th>Training Loss</th>\n",
       "      <th>Validation Loss</th>\n",
       "    </tr>\n",
       "  </thead>\n",
       "  <tbody>\n",
       "  </tbody>\n",
       "</table><p>"
      ],
      "text/plain": [
       "<IPython.core.display.HTML object>"
      ]
     },
     "metadata": {},
     "output_type": "display_data"
    },
    {
     "name": "stdout",
     "output_type": "stream",
     "text": [
      "              precision    recall  f1-score   support\n",
      "\n",
      "           0       0.67      0.50      0.57         4\n",
      "           1       1.00      0.75      0.86         4\n",
      "           2       0.50      1.00      0.67         2\n",
      "\n",
      "    accuracy                           0.70        10\n",
      "   macro avg       0.72      0.75      0.70        10\n",
      "weighted avg       0.77      0.70      0.70        10\n",
      "\n",
      "              precision    recall  f1-score   support\n",
      "\n",
      "           0       0.67      0.50      0.57         4\n",
      "           1       1.00      0.75      0.86         4\n",
      "           2       0.50      1.00      0.67         2\n",
      "\n",
      "    accuracy                           0.70        10\n",
      "   macro avg       0.72      0.75      0.70        10\n",
      "weighted avg       0.77      0.70      0.70        10\n",
      "\n",
      "              precision    recall  f1-score   support\n",
      "\n",
      "           0       0.67      0.50      0.57         4\n",
      "           1       1.00      0.75      0.86         4\n",
      "           2       0.50      1.00      0.67         2\n",
      "\n",
      "    accuracy                           0.70        10\n",
      "   macro avg       0.72      0.75      0.70        10\n",
      "weighted avg       0.77      0.70      0.70        10\n",
      "\n",
      "              precision    recall  f1-score   support\n",
      "\n",
      "           0       0.67      0.50      0.57         4\n",
      "           1       1.00      0.75      0.86         4\n",
      "           2       0.50      1.00      0.67         2\n",
      "\n",
      "    accuracy                           0.70        10\n",
      "   macro avg       0.72      0.75      0.70        10\n",
      "weighted avg       0.77      0.70      0.70        10\n",
      "\n"
     ]
    },
    {
     "data": {
      "text/html": [
       "\n",
       "    <div>\n",
       "      \n",
       "      <progress value='1' max='3' style='width:300px; height:20px; vertical-align: middle;'></progress>\n",
       "      [1/3 : < :]\n",
       "    </div>\n",
       "    "
      ],
      "text/plain": [
       "<IPython.core.display.HTML object>"
      ]
     },
     "metadata": {},
     "output_type": "display_data"
    },
    {
     "name": "stdout",
     "output_type": "stream",
     "text": [
      "              precision    recall  f1-score   support\n",
      "\n",
      "           0       0.67      0.50      0.57         4\n",
      "           1       1.00      0.75      0.86         4\n",
      "           2       0.50      1.00      0.67         2\n",
      "\n",
      "    accuracy                           0.70        10\n",
      "   macro avg       0.72      0.75      0.70        10\n",
      "weighted avg       0.77      0.70      0.70        10\n",
      "\n",
      "----------------------------------------------------------------------------------------------------\n",
      "\n",
      "\n",
      "\n",
      "Parameters: {'batch_size': 4, 'epochs': 4, 'learning_rate': 2e-05, 'warmup_ratio': 0, 'weight_decay': 0}\n"
     ]
    },
    {
     "name": "stderr",
     "output_type": "stream",
     "text": [
      "/Users/valena17/psych_nlp/psych_note_venv/lib/python3.8/site-packages/transformers/optimization.py:407: FutureWarning: This implementation of AdamW is deprecated and will be removed in a future version. Use the PyTorch implementation torch.optim.AdamW instead, or set `no_deprecation_warning=True` to disable this warning\n",
      "  warnings.warn(\n"
     ]
    },
    {
     "data": {
      "text/html": [
       "\n",
       "    <div>\n",
       "      \n",
       "      <progress value='2' max='24' style='width:300px; height:20px; vertical-align: middle;'></progress>\n",
       "      [ 2/24 : < :, Epoch 0.17/4]\n",
       "    </div>\n",
       "    <table border=\"1\" class=\"dataframe\">\n",
       "  <thead>\n",
       " <tr style=\"text-align: left;\">\n",
       "      <th>Epoch</th>\n",
       "      <th>Training Loss</th>\n",
       "      <th>Validation Loss</th>\n",
       "    </tr>\n",
       "  </thead>\n",
       "  <tbody>\n",
       "  </tbody>\n",
       "</table><p>"
      ],
      "text/plain": [
       "<IPython.core.display.HTML object>"
      ]
     },
     "metadata": {},
     "output_type": "display_data"
    },
    {
     "name": "stdout",
     "output_type": "stream",
     "text": [
      "              precision    recall  f1-score   support\n",
      "\n",
      "           0       0.67      0.50      0.57         4\n",
      "           1       1.00      0.75      0.86         4\n",
      "           2       0.50      1.00      0.67         2\n",
      "\n",
      "    accuracy                           0.70        10\n",
      "   macro avg       0.72      0.75      0.70        10\n",
      "weighted avg       0.77      0.70      0.70        10\n",
      "\n",
      "              precision    recall  f1-score   support\n",
      "\n",
      "           0       0.67      0.50      0.57         4\n",
      "           1       1.00      0.75      0.86         4\n",
      "           2       0.50      1.00      0.67         2\n",
      "\n",
      "    accuracy                           0.70        10\n",
      "   macro avg       0.72      0.75      0.70        10\n",
      "weighted avg       0.77      0.70      0.70        10\n",
      "\n",
      "              precision    recall  f1-score   support\n",
      "\n",
      "           0       0.67      0.50      0.57         4\n",
      "           1       1.00      0.75      0.86         4\n",
      "           2       0.50      1.00      0.67         2\n",
      "\n",
      "    accuracy                           0.70        10\n",
      "   macro avg       0.72      0.75      0.70        10\n",
      "weighted avg       0.77      0.70      0.70        10\n",
      "\n",
      "              precision    recall  f1-score   support\n",
      "\n",
      "           0       0.67      0.50      0.57         4\n",
      "           1       1.00      0.75      0.86         4\n",
      "           2       0.50      1.00      0.67         2\n",
      "\n",
      "    accuracy                           0.70        10\n",
      "   macro avg       0.72      0.75      0.70        10\n",
      "weighted avg       0.77      0.70      0.70        10\n",
      "\n"
     ]
    },
    {
     "data": {
      "text/html": [
       "\n",
       "    <div>\n",
       "      \n",
       "      <progress value='1' max='3' style='width:300px; height:20px; vertical-align: middle;'></progress>\n",
       "      [1/3 : < :]\n",
       "    </div>\n",
       "    "
      ],
      "text/plain": [
       "<IPython.core.display.HTML object>"
      ]
     },
     "metadata": {},
     "output_type": "display_data"
    },
    {
     "name": "stdout",
     "output_type": "stream",
     "text": [
      "              precision    recall  f1-score   support\n",
      "\n",
      "           0       0.67      0.50      0.57         4\n",
      "           1       1.00      0.75      0.86         4\n",
      "           2       0.50      1.00      0.67         2\n",
      "\n",
      "    accuracy                           0.70        10\n",
      "   macro avg       0.72      0.75      0.70        10\n",
      "weighted avg       0.77      0.70      0.70        10\n",
      "\n",
      "----------------------------------------------------------------------------------------------------\n",
      "\n",
      "\n",
      "\n",
      "Parameters: {'batch_size': 4, 'epochs': 4, 'learning_rate': 2e-05, 'warmup_ratio': 0, 'weight_decay': 0.1}\n"
     ]
    },
    {
     "name": "stderr",
     "output_type": "stream",
     "text": [
      "/Users/valena17/psych_nlp/psych_note_venv/lib/python3.8/site-packages/transformers/optimization.py:407: FutureWarning: This implementation of AdamW is deprecated and will be removed in a future version. Use the PyTorch implementation torch.optim.AdamW instead, or set `no_deprecation_warning=True` to disable this warning\n",
      "  warnings.warn(\n"
     ]
    },
    {
     "data": {
      "text/html": [
       "\n",
       "    <div>\n",
       "      \n",
       "      <progress value='2' max='24' style='width:300px; height:20px; vertical-align: middle;'></progress>\n",
       "      [ 2/24 : < :, Epoch 0.17/4]\n",
       "    </div>\n",
       "    <table border=\"1\" class=\"dataframe\">\n",
       "  <thead>\n",
       " <tr style=\"text-align: left;\">\n",
       "      <th>Epoch</th>\n",
       "      <th>Training Loss</th>\n",
       "      <th>Validation Loss</th>\n",
       "    </tr>\n",
       "  </thead>\n",
       "  <tbody>\n",
       "  </tbody>\n",
       "</table><p>"
      ],
      "text/plain": [
       "<IPython.core.display.HTML object>"
      ]
     },
     "metadata": {},
     "output_type": "display_data"
    },
    {
     "name": "stdout",
     "output_type": "stream",
     "text": [
      "              precision    recall  f1-score   support\n",
      "\n",
      "           0       0.67      0.50      0.57         4\n",
      "           1       1.00      0.75      0.86         4\n",
      "           2       0.50      1.00      0.67         2\n",
      "\n",
      "    accuracy                           0.70        10\n",
      "   macro avg       0.72      0.75      0.70        10\n",
      "weighted avg       0.77      0.70      0.70        10\n",
      "\n",
      "              precision    recall  f1-score   support\n",
      "\n",
      "           0       0.67      0.50      0.57         4\n",
      "           1       1.00      0.75      0.86         4\n",
      "           2       0.50      1.00      0.67         2\n",
      "\n",
      "    accuracy                           0.70        10\n",
      "   macro avg       0.72      0.75      0.70        10\n",
      "weighted avg       0.77      0.70      0.70        10\n",
      "\n",
      "              precision    recall  f1-score   support\n",
      "\n",
      "           0       0.67      0.50      0.57         4\n",
      "           1       1.00      0.75      0.86         4\n",
      "           2       0.50      1.00      0.67         2\n",
      "\n",
      "    accuracy                           0.70        10\n",
      "   macro avg       0.72      0.75      0.70        10\n",
      "weighted avg       0.77      0.70      0.70        10\n",
      "\n",
      "              precision    recall  f1-score   support\n",
      "\n",
      "           0       0.67      0.50      0.57         4\n",
      "           1       1.00      0.75      0.86         4\n",
      "           2       0.50      1.00      0.67         2\n",
      "\n",
      "    accuracy                           0.70        10\n",
      "   macro avg       0.72      0.75      0.70        10\n",
      "weighted avg       0.77      0.70      0.70        10\n",
      "\n"
     ]
    },
    {
     "data": {
      "text/html": [
       "\n",
       "    <div>\n",
       "      \n",
       "      <progress value='1' max='3' style='width:300px; height:20px; vertical-align: middle;'></progress>\n",
       "      [1/3 : < :]\n",
       "    </div>\n",
       "    "
      ],
      "text/plain": [
       "<IPython.core.display.HTML object>"
      ]
     },
     "metadata": {},
     "output_type": "display_data"
    },
    {
     "name": "stdout",
     "output_type": "stream",
     "text": [
      "              precision    recall  f1-score   support\n",
      "\n",
      "           0       0.67      0.50      0.57         4\n",
      "           1       1.00      0.75      0.86         4\n",
      "           2       0.50      1.00      0.67         2\n",
      "\n",
      "    accuracy                           0.70        10\n",
      "   macro avg       0.72      0.75      0.70        10\n",
      "weighted avg       0.77      0.70      0.70        10\n",
      "\n",
      "----------------------------------------------------------------------------------------------------\n",
      "\n",
      "\n",
      "\n",
      "Parameters: {'batch_size': 4, 'epochs': 4, 'learning_rate': 2e-05, 'warmup_ratio': 0.1, 'weight_decay': 0}\n"
     ]
    },
    {
     "name": "stderr",
     "output_type": "stream",
     "text": [
      "/Users/valena17/psych_nlp/psych_note_venv/lib/python3.8/site-packages/transformers/optimization.py:407: FutureWarning: This implementation of AdamW is deprecated and will be removed in a future version. Use the PyTorch implementation torch.optim.AdamW instead, or set `no_deprecation_warning=True` to disable this warning\n",
      "  warnings.warn(\n"
     ]
    },
    {
     "data": {
      "text/html": [
       "\n",
       "    <div>\n",
       "      \n",
       "      <progress value='2' max='24' style='width:300px; height:20px; vertical-align: middle;'></progress>\n",
       "      [ 2/24 : < :, Epoch 0.17/4]\n",
       "    </div>\n",
       "    <table border=\"1\" class=\"dataframe\">\n",
       "  <thead>\n",
       " <tr style=\"text-align: left;\">\n",
       "      <th>Epoch</th>\n",
       "      <th>Training Loss</th>\n",
       "      <th>Validation Loss</th>\n",
       "    </tr>\n",
       "  </thead>\n",
       "  <tbody>\n",
       "  </tbody>\n",
       "</table><p>"
      ],
      "text/plain": [
       "<IPython.core.display.HTML object>"
      ]
     },
     "metadata": {},
     "output_type": "display_data"
    },
    {
     "name": "stdout",
     "output_type": "stream",
     "text": [
      "              precision    recall  f1-score   support\n",
      "\n",
      "           0       0.67      0.50      0.57         4\n",
      "           1       1.00      0.75      0.86         4\n",
      "           2       0.50      1.00      0.67         2\n",
      "\n",
      "    accuracy                           0.70        10\n",
      "   macro avg       0.72      0.75      0.70        10\n",
      "weighted avg       0.77      0.70      0.70        10\n",
      "\n",
      "              precision    recall  f1-score   support\n",
      "\n",
      "           0       0.67      0.50      0.57         4\n",
      "           1       1.00      0.75      0.86         4\n",
      "           2       0.50      1.00      0.67         2\n",
      "\n",
      "    accuracy                           0.70        10\n",
      "   macro avg       0.72      0.75      0.70        10\n",
      "weighted avg       0.77      0.70      0.70        10\n",
      "\n",
      "              precision    recall  f1-score   support\n",
      "\n",
      "           0       0.67      0.50      0.57         4\n",
      "           1       1.00      0.75      0.86         4\n",
      "           2       0.50      1.00      0.67         2\n",
      "\n",
      "    accuracy                           0.70        10\n",
      "   macro avg       0.72      0.75      0.70        10\n",
      "weighted avg       0.77      0.70      0.70        10\n",
      "\n",
      "              precision    recall  f1-score   support\n",
      "\n",
      "           0       0.67      0.50      0.57         4\n",
      "           1       1.00      0.75      0.86         4\n",
      "           2       0.50      1.00      0.67         2\n",
      "\n",
      "    accuracy                           0.70        10\n",
      "   macro avg       0.72      0.75      0.70        10\n",
      "weighted avg       0.77      0.70      0.70        10\n",
      "\n"
     ]
    },
    {
     "data": {
      "text/html": [
       "\n",
       "    <div>\n",
       "      \n",
       "      <progress value='1' max='3' style='width:300px; height:20px; vertical-align: middle;'></progress>\n",
       "      [1/3 : < :]\n",
       "    </div>\n",
       "    "
      ],
      "text/plain": [
       "<IPython.core.display.HTML object>"
      ]
     },
     "metadata": {},
     "output_type": "display_data"
    },
    {
     "name": "stdout",
     "output_type": "stream",
     "text": [
      "              precision    recall  f1-score   support\n",
      "\n",
      "           0       0.67      0.50      0.57         4\n",
      "           1       1.00      0.75      0.86         4\n",
      "           2       0.50      1.00      0.67         2\n",
      "\n",
      "    accuracy                           0.70        10\n",
      "   macro avg       0.72      0.75      0.70        10\n",
      "weighted avg       0.77      0.70      0.70        10\n",
      "\n",
      "----------------------------------------------------------------------------------------------------\n",
      "\n",
      "\n",
      "\n",
      "Parameters: {'batch_size': 4, 'epochs': 4, 'learning_rate': 2e-05, 'warmup_ratio': 0.1, 'weight_decay': 0.1}\n"
     ]
    },
    {
     "name": "stderr",
     "output_type": "stream",
     "text": [
      "/Users/valena17/psych_nlp/psych_note_venv/lib/python3.8/site-packages/transformers/optimization.py:407: FutureWarning: This implementation of AdamW is deprecated and will be removed in a future version. Use the PyTorch implementation torch.optim.AdamW instead, or set `no_deprecation_warning=True` to disable this warning\n",
      "  warnings.warn(\n"
     ]
    },
    {
     "data": {
      "text/html": [
       "\n",
       "    <div>\n",
       "      \n",
       "      <progress value='2' max='24' style='width:300px; height:20px; vertical-align: middle;'></progress>\n",
       "      [ 2/24 : < :, Epoch 0.17/4]\n",
       "    </div>\n",
       "    <table border=\"1\" class=\"dataframe\">\n",
       "  <thead>\n",
       " <tr style=\"text-align: left;\">\n",
       "      <th>Epoch</th>\n",
       "      <th>Training Loss</th>\n",
       "      <th>Validation Loss</th>\n",
       "    </tr>\n",
       "  </thead>\n",
       "  <tbody>\n",
       "  </tbody>\n",
       "</table><p>"
      ],
      "text/plain": [
       "<IPython.core.display.HTML object>"
      ]
     },
     "metadata": {},
     "output_type": "display_data"
    },
    {
     "name": "stdout",
     "output_type": "stream",
     "text": [
      "              precision    recall  f1-score   support\n",
      "\n",
      "           0       0.67      0.50      0.57         4\n",
      "           1       1.00      0.75      0.86         4\n",
      "           2       0.50      1.00      0.67         2\n",
      "\n",
      "    accuracy                           0.70        10\n",
      "   macro avg       0.72      0.75      0.70        10\n",
      "weighted avg       0.77      0.70      0.70        10\n",
      "\n",
      "              precision    recall  f1-score   support\n",
      "\n",
      "           0       0.67      0.50      0.57         4\n",
      "           1       1.00      0.75      0.86         4\n",
      "           2       0.50      1.00      0.67         2\n",
      "\n",
      "    accuracy                           0.70        10\n",
      "   macro avg       0.72      0.75      0.70        10\n",
      "weighted avg       0.77      0.70      0.70        10\n",
      "\n",
      "              precision    recall  f1-score   support\n",
      "\n",
      "           0       0.67      0.50      0.57         4\n",
      "           1       1.00      0.75      0.86         4\n",
      "           2       0.50      1.00      0.67         2\n",
      "\n",
      "    accuracy                           0.70        10\n",
      "   macro avg       0.72      0.75      0.70        10\n",
      "weighted avg       0.77      0.70      0.70        10\n",
      "\n",
      "              precision    recall  f1-score   support\n",
      "\n",
      "           0       0.67      0.50      0.57         4\n",
      "           1       1.00      0.75      0.86         4\n",
      "           2       0.50      1.00      0.67         2\n",
      "\n",
      "    accuracy                           0.70        10\n",
      "   macro avg       0.72      0.75      0.70        10\n",
      "weighted avg       0.77      0.70      0.70        10\n",
      "\n"
     ]
    },
    {
     "data": {
      "text/html": [
       "\n",
       "    <div>\n",
       "      \n",
       "      <progress value='1' max='3' style='width:300px; height:20px; vertical-align: middle;'></progress>\n",
       "      [1/3 : < :]\n",
       "    </div>\n",
       "    "
      ],
      "text/plain": [
       "<IPython.core.display.HTML object>"
      ]
     },
     "metadata": {},
     "output_type": "display_data"
    },
    {
     "name": "stdout",
     "output_type": "stream",
     "text": [
      "              precision    recall  f1-score   support\n",
      "\n",
      "           0       0.67      0.50      0.57         4\n",
      "           1       1.00      0.75      0.86         4\n",
      "           2       0.50      1.00      0.67         2\n",
      "\n",
      "    accuracy                           0.70        10\n",
      "   macro avg       0.72      0.75      0.70        10\n",
      "weighted avg       0.77      0.70      0.70        10\n",
      "\n",
      "----------------------------------------------------------------------------------------------------\n",
      "\n",
      "\n",
      "\n",
      "Parameters: {'batch_size': 4, 'epochs': 4, 'learning_rate': 5e-05, 'warmup_ratio': 0, 'weight_decay': 0}\n"
     ]
    },
    {
     "name": "stderr",
     "output_type": "stream",
     "text": [
      "/Users/valena17/psych_nlp/psych_note_venv/lib/python3.8/site-packages/transformers/optimization.py:407: FutureWarning: This implementation of AdamW is deprecated and will be removed in a future version. Use the PyTorch implementation torch.optim.AdamW instead, or set `no_deprecation_warning=True` to disable this warning\n",
      "  warnings.warn(\n"
     ]
    },
    {
     "data": {
      "text/html": [
       "\n",
       "    <div>\n",
       "      \n",
       "      <progress value='2' max='24' style='width:300px; height:20px; vertical-align: middle;'></progress>\n",
       "      [ 2/24 : < :, Epoch 0.17/4]\n",
       "    </div>\n",
       "    <table border=\"1\" class=\"dataframe\">\n",
       "  <thead>\n",
       " <tr style=\"text-align: left;\">\n",
       "      <th>Epoch</th>\n",
       "      <th>Training Loss</th>\n",
       "      <th>Validation Loss</th>\n",
       "    </tr>\n",
       "  </thead>\n",
       "  <tbody>\n",
       "  </tbody>\n",
       "</table><p>"
      ],
      "text/plain": [
       "<IPython.core.display.HTML object>"
      ]
     },
     "metadata": {},
     "output_type": "display_data"
    },
    {
     "name": "stdout",
     "output_type": "stream",
     "text": [
      "              precision    recall  f1-score   support\n",
      "\n",
      "           0       0.67      0.50      0.57         4\n",
      "           1       1.00      0.75      0.86         4\n",
      "           2       0.50      1.00      0.67         2\n",
      "\n",
      "    accuracy                           0.70        10\n",
      "   macro avg       0.72      0.75      0.70        10\n",
      "weighted avg       0.77      0.70      0.70        10\n",
      "\n",
      "              precision    recall  f1-score   support\n",
      "\n",
      "           0       0.67      0.50      0.57         4\n",
      "           1       1.00      0.75      0.86         4\n",
      "           2       0.50      1.00      0.67         2\n",
      "\n",
      "    accuracy                           0.70        10\n",
      "   macro avg       0.72      0.75      0.70        10\n",
      "weighted avg       0.77      0.70      0.70        10\n",
      "\n",
      "              precision    recall  f1-score   support\n",
      "\n",
      "           0       0.67      0.50      0.57         4\n",
      "           1       1.00      0.75      0.86         4\n",
      "           2       0.50      1.00      0.67         2\n",
      "\n",
      "    accuracy                           0.70        10\n",
      "   macro avg       0.72      0.75      0.70        10\n",
      "weighted avg       0.77      0.70      0.70        10\n",
      "\n",
      "              precision    recall  f1-score   support\n",
      "\n",
      "           0       0.67      0.50      0.57         4\n",
      "           1       1.00      0.75      0.86         4\n",
      "           2       0.50      1.00      0.67         2\n",
      "\n",
      "    accuracy                           0.70        10\n",
      "   macro avg       0.72      0.75      0.70        10\n",
      "weighted avg       0.77      0.70      0.70        10\n",
      "\n"
     ]
    },
    {
     "data": {
      "text/html": [
       "\n",
       "    <div>\n",
       "      \n",
       "      <progress value='1' max='3' style='width:300px; height:20px; vertical-align: middle;'></progress>\n",
       "      [1/3 : < :]\n",
       "    </div>\n",
       "    "
      ],
      "text/plain": [
       "<IPython.core.display.HTML object>"
      ]
     },
     "metadata": {},
     "output_type": "display_data"
    },
    {
     "name": "stdout",
     "output_type": "stream",
     "text": [
      "              precision    recall  f1-score   support\n",
      "\n",
      "           0       0.67      0.50      0.57         4\n",
      "           1       1.00      0.75      0.86         4\n",
      "           2       0.50      1.00      0.67         2\n",
      "\n",
      "    accuracy                           0.70        10\n",
      "   macro avg       0.72      0.75      0.70        10\n",
      "weighted avg       0.77      0.70      0.70        10\n",
      "\n",
      "----------------------------------------------------------------------------------------------------\n",
      "\n",
      "\n",
      "\n",
      "Parameters: {'batch_size': 4, 'epochs': 4, 'learning_rate': 5e-05, 'warmup_ratio': 0, 'weight_decay': 0.1}\n"
     ]
    },
    {
     "name": "stderr",
     "output_type": "stream",
     "text": [
      "/Users/valena17/psych_nlp/psych_note_venv/lib/python3.8/site-packages/transformers/optimization.py:407: FutureWarning: This implementation of AdamW is deprecated and will be removed in a future version. Use the PyTorch implementation torch.optim.AdamW instead, or set `no_deprecation_warning=True` to disable this warning\n",
      "  warnings.warn(\n"
     ]
    },
    {
     "data": {
      "text/html": [
       "\n",
       "    <div>\n",
       "      \n",
       "      <progress value='2' max='24' style='width:300px; height:20px; vertical-align: middle;'></progress>\n",
       "      [ 2/24 : < :, Epoch 0.17/4]\n",
       "    </div>\n",
       "    <table border=\"1\" class=\"dataframe\">\n",
       "  <thead>\n",
       " <tr style=\"text-align: left;\">\n",
       "      <th>Epoch</th>\n",
       "      <th>Training Loss</th>\n",
       "      <th>Validation Loss</th>\n",
       "    </tr>\n",
       "  </thead>\n",
       "  <tbody>\n",
       "  </tbody>\n",
       "</table><p>"
      ],
      "text/plain": [
       "<IPython.core.display.HTML object>"
      ]
     },
     "metadata": {},
     "output_type": "display_data"
    },
    {
     "name": "stdout",
     "output_type": "stream",
     "text": [
      "              precision    recall  f1-score   support\n",
      "\n",
      "           0       0.67      0.50      0.57         4\n",
      "           1       1.00      0.75      0.86         4\n",
      "           2       0.50      1.00      0.67         2\n",
      "\n",
      "    accuracy                           0.70        10\n",
      "   macro avg       0.72      0.75      0.70        10\n",
      "weighted avg       0.77      0.70      0.70        10\n",
      "\n",
      "              precision    recall  f1-score   support\n",
      "\n",
      "           0       0.67      0.50      0.57         4\n",
      "           1       1.00      0.75      0.86         4\n",
      "           2       0.50      1.00      0.67         2\n",
      "\n",
      "    accuracy                           0.70        10\n",
      "   macro avg       0.72      0.75      0.70        10\n",
      "weighted avg       0.77      0.70      0.70        10\n",
      "\n",
      "              precision    recall  f1-score   support\n",
      "\n",
      "           0       0.67      0.50      0.57         4\n",
      "           1       1.00      0.75      0.86         4\n",
      "           2       0.50      1.00      0.67         2\n",
      "\n",
      "    accuracy                           0.70        10\n",
      "   macro avg       0.72      0.75      0.70        10\n",
      "weighted avg       0.77      0.70      0.70        10\n",
      "\n",
      "              precision    recall  f1-score   support\n",
      "\n",
      "           0       0.67      0.50      0.57         4\n",
      "           1       1.00      0.75      0.86         4\n",
      "           2       0.50      1.00      0.67         2\n",
      "\n",
      "    accuracy                           0.70        10\n",
      "   macro avg       0.72      0.75      0.70        10\n",
      "weighted avg       0.77      0.70      0.70        10\n",
      "\n"
     ]
    },
    {
     "data": {
      "text/html": [
       "\n",
       "    <div>\n",
       "      \n",
       "      <progress value='1' max='3' style='width:300px; height:20px; vertical-align: middle;'></progress>\n",
       "      [1/3 : < :]\n",
       "    </div>\n",
       "    "
      ],
      "text/plain": [
       "<IPython.core.display.HTML object>"
      ]
     },
     "metadata": {},
     "output_type": "display_data"
    },
    {
     "name": "stdout",
     "output_type": "stream",
     "text": [
      "              precision    recall  f1-score   support\n",
      "\n",
      "           0       0.67      0.50      0.57         4\n",
      "           1       1.00      0.75      0.86         4\n",
      "           2       0.50      1.00      0.67         2\n",
      "\n",
      "    accuracy                           0.70        10\n",
      "   macro avg       0.72      0.75      0.70        10\n",
      "weighted avg       0.77      0.70      0.70        10\n",
      "\n",
      "----------------------------------------------------------------------------------------------------\n",
      "\n",
      "\n",
      "\n",
      "Parameters: {'batch_size': 4, 'epochs': 4, 'learning_rate': 5e-05, 'warmup_ratio': 0.1, 'weight_decay': 0}\n"
     ]
    },
    {
     "name": "stderr",
     "output_type": "stream",
     "text": [
      "/Users/valena17/psych_nlp/psych_note_venv/lib/python3.8/site-packages/transformers/optimization.py:407: FutureWarning: This implementation of AdamW is deprecated and will be removed in a future version. Use the PyTorch implementation torch.optim.AdamW instead, or set `no_deprecation_warning=True` to disable this warning\n",
      "  warnings.warn(\n"
     ]
    },
    {
     "data": {
      "text/html": [
       "\n",
       "    <div>\n",
       "      \n",
       "      <progress value='2' max='24' style='width:300px; height:20px; vertical-align: middle;'></progress>\n",
       "      [ 2/24 : < :, Epoch 0.17/4]\n",
       "    </div>\n",
       "    <table border=\"1\" class=\"dataframe\">\n",
       "  <thead>\n",
       " <tr style=\"text-align: left;\">\n",
       "      <th>Epoch</th>\n",
       "      <th>Training Loss</th>\n",
       "      <th>Validation Loss</th>\n",
       "    </tr>\n",
       "  </thead>\n",
       "  <tbody>\n",
       "  </tbody>\n",
       "</table><p>"
      ],
      "text/plain": [
       "<IPython.core.display.HTML object>"
      ]
     },
     "metadata": {},
     "output_type": "display_data"
    },
    {
     "name": "stdout",
     "output_type": "stream",
     "text": [
      "              precision    recall  f1-score   support\n",
      "\n",
      "           0       0.67      0.50      0.57         4\n",
      "           1       1.00      0.75      0.86         4\n",
      "           2       0.50      1.00      0.67         2\n",
      "\n",
      "    accuracy                           0.70        10\n",
      "   macro avg       0.72      0.75      0.70        10\n",
      "weighted avg       0.77      0.70      0.70        10\n",
      "\n",
      "              precision    recall  f1-score   support\n",
      "\n",
      "           0       0.67      0.50      0.57         4\n",
      "           1       1.00      0.75      0.86         4\n",
      "           2       0.50      1.00      0.67         2\n",
      "\n",
      "    accuracy                           0.70        10\n",
      "   macro avg       0.72      0.75      0.70        10\n",
      "weighted avg       0.77      0.70      0.70        10\n",
      "\n",
      "              precision    recall  f1-score   support\n",
      "\n",
      "           0       0.67      0.50      0.57         4\n",
      "           1       1.00      0.75      0.86         4\n",
      "           2       0.50      1.00      0.67         2\n",
      "\n",
      "    accuracy                           0.70        10\n",
      "   macro avg       0.72      0.75      0.70        10\n",
      "weighted avg       0.77      0.70      0.70        10\n",
      "\n",
      "              precision    recall  f1-score   support\n",
      "\n",
      "           0       0.67      0.50      0.57         4\n",
      "           1       1.00      0.75      0.86         4\n",
      "           2       0.50      1.00      0.67         2\n",
      "\n",
      "    accuracy                           0.70        10\n",
      "   macro avg       0.72      0.75      0.70        10\n",
      "weighted avg       0.77      0.70      0.70        10\n",
      "\n"
     ]
    },
    {
     "data": {
      "text/html": [
       "\n",
       "    <div>\n",
       "      \n",
       "      <progress value='1' max='3' style='width:300px; height:20px; vertical-align: middle;'></progress>\n",
       "      [1/3 : < :]\n",
       "    </div>\n",
       "    "
      ],
      "text/plain": [
       "<IPython.core.display.HTML object>"
      ]
     },
     "metadata": {},
     "output_type": "display_data"
    },
    {
     "name": "stdout",
     "output_type": "stream",
     "text": [
      "              precision    recall  f1-score   support\n",
      "\n",
      "           0       0.67      0.50      0.57         4\n",
      "           1       1.00      0.75      0.86         4\n",
      "           2       0.50      1.00      0.67         2\n",
      "\n",
      "    accuracy                           0.70        10\n",
      "   macro avg       0.72      0.75      0.70        10\n",
      "weighted avg       0.77      0.70      0.70        10\n",
      "\n",
      "----------------------------------------------------------------------------------------------------\n",
      "\n",
      "\n",
      "\n",
      "Parameters: {'batch_size': 4, 'epochs': 4, 'learning_rate': 5e-05, 'warmup_ratio': 0.1, 'weight_decay': 0.1}\n"
     ]
    },
    {
     "name": "stderr",
     "output_type": "stream",
     "text": [
      "/Users/valena17/psych_nlp/psych_note_venv/lib/python3.8/site-packages/transformers/optimization.py:407: FutureWarning: This implementation of AdamW is deprecated and will be removed in a future version. Use the PyTorch implementation torch.optim.AdamW instead, or set `no_deprecation_warning=True` to disable this warning\n",
      "  warnings.warn(\n"
     ]
    },
    {
     "data": {
      "text/html": [
       "\n",
       "    <div>\n",
       "      \n",
       "      <progress value='2' max='24' style='width:300px; height:20px; vertical-align: middle;'></progress>\n",
       "      [ 2/24 : < :, Epoch 0.17/4]\n",
       "    </div>\n",
       "    <table border=\"1\" class=\"dataframe\">\n",
       "  <thead>\n",
       " <tr style=\"text-align: left;\">\n",
       "      <th>Epoch</th>\n",
       "      <th>Training Loss</th>\n",
       "      <th>Validation Loss</th>\n",
       "    </tr>\n",
       "  </thead>\n",
       "  <tbody>\n",
       "  </tbody>\n",
       "</table><p>"
      ],
      "text/plain": [
       "<IPython.core.display.HTML object>"
      ]
     },
     "metadata": {},
     "output_type": "display_data"
    },
    {
     "name": "stdout",
     "output_type": "stream",
     "text": [
      "              precision    recall  f1-score   support\n",
      "\n",
      "           0       0.67      0.50      0.57         4\n",
      "           1       1.00      0.75      0.86         4\n",
      "           2       0.50      1.00      0.67         2\n",
      "\n",
      "    accuracy                           0.70        10\n",
      "   macro avg       0.72      0.75      0.70        10\n",
      "weighted avg       0.77      0.70      0.70        10\n",
      "\n",
      "              precision    recall  f1-score   support\n",
      "\n",
      "           0       0.67      0.50      0.57         4\n",
      "           1       1.00      0.75      0.86         4\n",
      "           2       0.50      1.00      0.67         2\n",
      "\n",
      "    accuracy                           0.70        10\n",
      "   macro avg       0.72      0.75      0.70        10\n",
      "weighted avg       0.77      0.70      0.70        10\n",
      "\n",
      "              precision    recall  f1-score   support\n",
      "\n",
      "           0       0.67      0.50      0.57         4\n",
      "           1       1.00      0.75      0.86         4\n",
      "           2       0.50      1.00      0.67         2\n",
      "\n",
      "    accuracy                           0.70        10\n",
      "   macro avg       0.72      0.75      0.70        10\n",
      "weighted avg       0.77      0.70      0.70        10\n",
      "\n",
      "              precision    recall  f1-score   support\n",
      "\n",
      "           0       0.67      0.50      0.57         4\n",
      "           1       1.00      0.75      0.86         4\n",
      "           2       0.50      1.00      0.67         2\n",
      "\n",
      "    accuracy                           0.70        10\n",
      "   macro avg       0.72      0.75      0.70        10\n",
      "weighted avg       0.77      0.70      0.70        10\n",
      "\n"
     ]
    },
    {
     "data": {
      "text/html": [
       "\n",
       "    <div>\n",
       "      \n",
       "      <progress value='1' max='3' style='width:300px; height:20px; vertical-align: middle;'></progress>\n",
       "      [1/3 : < :]\n",
       "    </div>\n",
       "    "
      ],
      "text/plain": [
       "<IPython.core.display.HTML object>"
      ]
     },
     "metadata": {},
     "output_type": "display_data"
    },
    {
     "name": "stdout",
     "output_type": "stream",
     "text": [
      "              precision    recall  f1-score   support\n",
      "\n",
      "           0       0.67      0.50      0.57         4\n",
      "           1       1.00      0.75      0.86         4\n",
      "           2       0.50      1.00      0.67         2\n",
      "\n",
      "    accuracy                           0.70        10\n",
      "   macro avg       0.72      0.75      0.70        10\n",
      "weighted avg       0.77      0.70      0.70        10\n",
      "\n",
      "----------------------------------------------------------------------------------------------------\n",
      "\n",
      "\n",
      "\n",
      "Parameters: {'batch_size': 4, 'epochs': 4, 'learning_rate': 0.0001, 'warmup_ratio': 0, 'weight_decay': 0}\n"
     ]
    },
    {
     "name": "stderr",
     "output_type": "stream",
     "text": [
      "/Users/valena17/psych_nlp/psych_note_venv/lib/python3.8/site-packages/transformers/optimization.py:407: FutureWarning: This implementation of AdamW is deprecated and will be removed in a future version. Use the PyTorch implementation torch.optim.AdamW instead, or set `no_deprecation_warning=True` to disable this warning\n",
      "  warnings.warn(\n"
     ]
    },
    {
     "data": {
      "text/html": [
       "\n",
       "    <div>\n",
       "      \n",
       "      <progress value='2' max='24' style='width:300px; height:20px; vertical-align: middle;'></progress>\n",
       "      [ 2/24 : < :, Epoch 0.17/4]\n",
       "    </div>\n",
       "    <table border=\"1\" class=\"dataframe\">\n",
       "  <thead>\n",
       " <tr style=\"text-align: left;\">\n",
       "      <th>Epoch</th>\n",
       "      <th>Training Loss</th>\n",
       "      <th>Validation Loss</th>\n",
       "    </tr>\n",
       "  </thead>\n",
       "  <tbody>\n",
       "  </tbody>\n",
       "</table><p>"
      ],
      "text/plain": [
       "<IPython.core.display.HTML object>"
      ]
     },
     "metadata": {},
     "output_type": "display_data"
    },
    {
     "name": "stdout",
     "output_type": "stream",
     "text": [
      "              precision    recall  f1-score   support\n",
      "\n",
      "           0       0.67      0.50      0.57         4\n",
      "           1       1.00      0.75      0.86         4\n",
      "           2       0.50      1.00      0.67         2\n",
      "\n",
      "    accuracy                           0.70        10\n",
      "   macro avg       0.72      0.75      0.70        10\n",
      "weighted avg       0.77      0.70      0.70        10\n",
      "\n",
      "              precision    recall  f1-score   support\n",
      "\n",
      "           0       0.67      0.50      0.57         4\n",
      "           1       1.00      0.75      0.86         4\n",
      "           2       0.50      1.00      0.67         2\n",
      "\n",
      "    accuracy                           0.70        10\n",
      "   macro avg       0.72      0.75      0.70        10\n",
      "weighted avg       0.77      0.70      0.70        10\n",
      "\n",
      "              precision    recall  f1-score   support\n",
      "\n",
      "           0       0.67      0.50      0.57         4\n",
      "           1       1.00      0.75      0.86         4\n",
      "           2       0.50      1.00      0.67         2\n",
      "\n",
      "    accuracy                           0.70        10\n",
      "   macro avg       0.72      0.75      0.70        10\n",
      "weighted avg       0.77      0.70      0.70        10\n",
      "\n",
      "              precision    recall  f1-score   support\n",
      "\n",
      "           0       0.67      0.50      0.57         4\n",
      "           1       1.00      0.75      0.86         4\n",
      "           2       0.50      1.00      0.67         2\n",
      "\n",
      "    accuracy                           0.70        10\n",
      "   macro avg       0.72      0.75      0.70        10\n",
      "weighted avg       0.77      0.70      0.70        10\n",
      "\n"
     ]
    },
    {
     "data": {
      "text/html": [
       "\n",
       "    <div>\n",
       "      \n",
       "      <progress value='1' max='3' style='width:300px; height:20px; vertical-align: middle;'></progress>\n",
       "      [1/3 : < :]\n",
       "    </div>\n",
       "    "
      ],
      "text/plain": [
       "<IPython.core.display.HTML object>"
      ]
     },
     "metadata": {},
     "output_type": "display_data"
    },
    {
     "name": "stdout",
     "output_type": "stream",
     "text": [
      "              precision    recall  f1-score   support\n",
      "\n",
      "           0       0.67      0.50      0.57         4\n",
      "           1       1.00      0.75      0.86         4\n",
      "           2       0.50      1.00      0.67         2\n",
      "\n",
      "    accuracy                           0.70        10\n",
      "   macro avg       0.72      0.75      0.70        10\n",
      "weighted avg       0.77      0.70      0.70        10\n",
      "\n",
      "----------------------------------------------------------------------------------------------------\n",
      "\n",
      "\n",
      "\n",
      "Parameters: {'batch_size': 4, 'epochs': 4, 'learning_rate': 0.0001, 'warmup_ratio': 0, 'weight_decay': 0.1}\n"
     ]
    },
    {
     "name": "stderr",
     "output_type": "stream",
     "text": [
      "/Users/valena17/psych_nlp/psych_note_venv/lib/python3.8/site-packages/transformers/optimization.py:407: FutureWarning: This implementation of AdamW is deprecated and will be removed in a future version. Use the PyTorch implementation torch.optim.AdamW instead, or set `no_deprecation_warning=True` to disable this warning\n",
      "  warnings.warn(\n"
     ]
    },
    {
     "data": {
      "text/html": [
       "\n",
       "    <div>\n",
       "      \n",
       "      <progress value='2' max='24' style='width:300px; height:20px; vertical-align: middle;'></progress>\n",
       "      [ 2/24 : < :, Epoch 0.17/4]\n",
       "    </div>\n",
       "    <table border=\"1\" class=\"dataframe\">\n",
       "  <thead>\n",
       " <tr style=\"text-align: left;\">\n",
       "      <th>Epoch</th>\n",
       "      <th>Training Loss</th>\n",
       "      <th>Validation Loss</th>\n",
       "    </tr>\n",
       "  </thead>\n",
       "  <tbody>\n",
       "  </tbody>\n",
       "</table><p>"
      ],
      "text/plain": [
       "<IPython.core.display.HTML object>"
      ]
     },
     "metadata": {},
     "output_type": "display_data"
    },
    {
     "name": "stdout",
     "output_type": "stream",
     "text": [
      "              precision    recall  f1-score   support\n",
      "\n",
      "           0       0.67      0.50      0.57         4\n",
      "           1       1.00      0.75      0.86         4\n",
      "           2       0.50      1.00      0.67         2\n",
      "\n",
      "    accuracy                           0.70        10\n",
      "   macro avg       0.72      0.75      0.70        10\n",
      "weighted avg       0.77      0.70      0.70        10\n",
      "\n",
      "              precision    recall  f1-score   support\n",
      "\n",
      "           0       0.67      0.50      0.57         4\n",
      "           1       1.00      0.75      0.86         4\n",
      "           2       0.50      1.00      0.67         2\n",
      "\n",
      "    accuracy                           0.70        10\n",
      "   macro avg       0.72      0.75      0.70        10\n",
      "weighted avg       0.77      0.70      0.70        10\n",
      "\n",
      "              precision    recall  f1-score   support\n",
      "\n",
      "           0       0.67      0.50      0.57         4\n",
      "           1       1.00      0.75      0.86         4\n",
      "           2       0.50      1.00      0.67         2\n",
      "\n",
      "    accuracy                           0.70        10\n",
      "   macro avg       0.72      0.75      0.70        10\n",
      "weighted avg       0.77      0.70      0.70        10\n",
      "\n",
      "              precision    recall  f1-score   support\n",
      "\n",
      "           0       0.67      0.50      0.57         4\n",
      "           1       1.00      0.75      0.86         4\n",
      "           2       0.50      1.00      0.67         2\n",
      "\n",
      "    accuracy                           0.70        10\n",
      "   macro avg       0.72      0.75      0.70        10\n",
      "weighted avg       0.77      0.70      0.70        10\n",
      "\n"
     ]
    },
    {
     "data": {
      "text/html": [
       "\n",
       "    <div>\n",
       "      \n",
       "      <progress value='1' max='3' style='width:300px; height:20px; vertical-align: middle;'></progress>\n",
       "      [1/3 : < :]\n",
       "    </div>\n",
       "    "
      ],
      "text/plain": [
       "<IPython.core.display.HTML object>"
      ]
     },
     "metadata": {},
     "output_type": "display_data"
    },
    {
     "name": "stdout",
     "output_type": "stream",
     "text": [
      "              precision    recall  f1-score   support\n",
      "\n",
      "           0       0.67      0.50      0.57         4\n",
      "           1       1.00      0.75      0.86         4\n",
      "           2       0.50      1.00      0.67         2\n",
      "\n",
      "    accuracy                           0.70        10\n",
      "   macro avg       0.72      0.75      0.70        10\n",
      "weighted avg       0.77      0.70      0.70        10\n",
      "\n",
      "----------------------------------------------------------------------------------------------------\n",
      "\n",
      "\n",
      "\n",
      "Parameters: {'batch_size': 4, 'epochs': 4, 'learning_rate': 0.0001, 'warmup_ratio': 0.1, 'weight_decay': 0}\n"
     ]
    },
    {
     "name": "stderr",
     "output_type": "stream",
     "text": [
      "/Users/valena17/psych_nlp/psych_note_venv/lib/python3.8/site-packages/transformers/optimization.py:407: FutureWarning: This implementation of AdamW is deprecated and will be removed in a future version. Use the PyTorch implementation torch.optim.AdamW instead, or set `no_deprecation_warning=True` to disable this warning\n",
      "  warnings.warn(\n"
     ]
    },
    {
     "data": {
      "text/html": [
       "\n",
       "    <div>\n",
       "      \n",
       "      <progress value='2' max='24' style='width:300px; height:20px; vertical-align: middle;'></progress>\n",
       "      [ 2/24 : < :, Epoch 0.17/4]\n",
       "    </div>\n",
       "    <table border=\"1\" class=\"dataframe\">\n",
       "  <thead>\n",
       " <tr style=\"text-align: left;\">\n",
       "      <th>Epoch</th>\n",
       "      <th>Training Loss</th>\n",
       "      <th>Validation Loss</th>\n",
       "    </tr>\n",
       "  </thead>\n",
       "  <tbody>\n",
       "  </tbody>\n",
       "</table><p>"
      ],
      "text/plain": [
       "<IPython.core.display.HTML object>"
      ]
     },
     "metadata": {},
     "output_type": "display_data"
    },
    {
     "name": "stdout",
     "output_type": "stream",
     "text": [
      "              precision    recall  f1-score   support\n",
      "\n",
      "           0       0.67      0.50      0.57         4\n",
      "           1       1.00      0.75      0.86         4\n",
      "           2       0.50      1.00      0.67         2\n",
      "\n",
      "    accuracy                           0.70        10\n",
      "   macro avg       0.72      0.75      0.70        10\n",
      "weighted avg       0.77      0.70      0.70        10\n",
      "\n",
      "              precision    recall  f1-score   support\n",
      "\n",
      "           0       0.67      0.50      0.57         4\n",
      "           1       1.00      0.75      0.86         4\n",
      "           2       0.50      1.00      0.67         2\n",
      "\n",
      "    accuracy                           0.70        10\n",
      "   macro avg       0.72      0.75      0.70        10\n",
      "weighted avg       0.77      0.70      0.70        10\n",
      "\n",
      "              precision    recall  f1-score   support\n",
      "\n",
      "           0       0.67      0.50      0.57         4\n",
      "           1       1.00      0.75      0.86         4\n",
      "           2       0.50      1.00      0.67         2\n",
      "\n",
      "    accuracy                           0.70        10\n",
      "   macro avg       0.72      0.75      0.70        10\n",
      "weighted avg       0.77      0.70      0.70        10\n",
      "\n",
      "              precision    recall  f1-score   support\n",
      "\n",
      "           0       0.67      0.50      0.57         4\n",
      "           1       1.00      0.75      0.86         4\n",
      "           2       0.50      1.00      0.67         2\n",
      "\n",
      "    accuracy                           0.70        10\n",
      "   macro avg       0.72      0.75      0.70        10\n",
      "weighted avg       0.77      0.70      0.70        10\n",
      "\n"
     ]
    },
    {
     "data": {
      "text/html": [
       "\n",
       "    <div>\n",
       "      \n",
       "      <progress value='1' max='3' style='width:300px; height:20px; vertical-align: middle;'></progress>\n",
       "      [1/3 : < :]\n",
       "    </div>\n",
       "    "
      ],
      "text/plain": [
       "<IPython.core.display.HTML object>"
      ]
     },
     "metadata": {},
     "output_type": "display_data"
    },
    {
     "name": "stdout",
     "output_type": "stream",
     "text": [
      "              precision    recall  f1-score   support\n",
      "\n",
      "           0       0.67      0.50      0.57         4\n",
      "           1       1.00      0.75      0.86         4\n",
      "           2       0.50      1.00      0.67         2\n",
      "\n",
      "    accuracy                           0.70        10\n",
      "   macro avg       0.72      0.75      0.70        10\n",
      "weighted avg       0.77      0.70      0.70        10\n",
      "\n",
      "----------------------------------------------------------------------------------------------------\n",
      "\n",
      "\n",
      "\n",
      "Parameters: {'batch_size': 4, 'epochs': 4, 'learning_rate': 0.0001, 'warmup_ratio': 0.1, 'weight_decay': 0.1}\n"
     ]
    },
    {
     "name": "stderr",
     "output_type": "stream",
     "text": [
      "/Users/valena17/psych_nlp/psych_note_venv/lib/python3.8/site-packages/transformers/optimization.py:407: FutureWarning: This implementation of AdamW is deprecated and will be removed in a future version. Use the PyTorch implementation torch.optim.AdamW instead, or set `no_deprecation_warning=True` to disable this warning\n",
      "  warnings.warn(\n"
     ]
    },
    {
     "data": {
      "text/html": [
       "\n",
       "    <div>\n",
       "      \n",
       "      <progress value='2' max='24' style='width:300px; height:20px; vertical-align: middle;'></progress>\n",
       "      [ 2/24 : < :, Epoch 0.17/4]\n",
       "    </div>\n",
       "    <table border=\"1\" class=\"dataframe\">\n",
       "  <thead>\n",
       " <tr style=\"text-align: left;\">\n",
       "      <th>Epoch</th>\n",
       "      <th>Training Loss</th>\n",
       "      <th>Validation Loss</th>\n",
       "    </tr>\n",
       "  </thead>\n",
       "  <tbody>\n",
       "  </tbody>\n",
       "</table><p>"
      ],
      "text/plain": [
       "<IPython.core.display.HTML object>"
      ]
     },
     "metadata": {},
     "output_type": "display_data"
    },
    {
     "name": "stdout",
     "output_type": "stream",
     "text": [
      "              precision    recall  f1-score   support\n",
      "\n",
      "           0       0.67      0.50      0.57         4\n",
      "           1       1.00      0.75      0.86         4\n",
      "           2       0.50      1.00      0.67         2\n",
      "\n",
      "    accuracy                           0.70        10\n",
      "   macro avg       0.72      0.75      0.70        10\n",
      "weighted avg       0.77      0.70      0.70        10\n",
      "\n",
      "              precision    recall  f1-score   support\n",
      "\n",
      "           0       0.67      0.50      0.57         4\n",
      "           1       1.00      0.75      0.86         4\n",
      "           2       0.50      1.00      0.67         2\n",
      "\n",
      "    accuracy                           0.70        10\n",
      "   macro avg       0.72      0.75      0.70        10\n",
      "weighted avg       0.77      0.70      0.70        10\n",
      "\n",
      "              precision    recall  f1-score   support\n",
      "\n",
      "           0       0.67      0.50      0.57         4\n",
      "           1       1.00      0.75      0.86         4\n",
      "           2       0.50      1.00      0.67         2\n",
      "\n",
      "    accuracy                           0.70        10\n",
      "   macro avg       0.72      0.75      0.70        10\n",
      "weighted avg       0.77      0.70      0.70        10\n",
      "\n",
      "              precision    recall  f1-score   support\n",
      "\n",
      "           0       0.67      0.50      0.57         4\n",
      "           1       1.00      0.75      0.86         4\n",
      "           2       0.50      1.00      0.67         2\n",
      "\n",
      "    accuracy                           0.70        10\n",
      "   macro avg       0.72      0.75      0.70        10\n",
      "weighted avg       0.77      0.70      0.70        10\n",
      "\n"
     ]
    },
    {
     "data": {
      "text/html": [
       "\n",
       "    <div>\n",
       "      \n",
       "      <progress value='1' max='3' style='width:300px; height:20px; vertical-align: middle;'></progress>\n",
       "      [1/3 : < :]\n",
       "    </div>\n",
       "    "
      ],
      "text/plain": [
       "<IPython.core.display.HTML object>"
      ]
     },
     "metadata": {},
     "output_type": "display_data"
    },
    {
     "name": "stdout",
     "output_type": "stream",
     "text": [
      "              precision    recall  f1-score   support\n",
      "\n",
      "           0       0.67      0.50      0.57         4\n",
      "           1       1.00      0.75      0.86         4\n",
      "           2       0.50      1.00      0.67         2\n",
      "\n",
      "    accuracy                           0.70        10\n",
      "   macro avg       0.72      0.75      0.70        10\n",
      "weighted avg       0.77      0.70      0.70        10\n",
      "\n",
      "----------------------------------------------------------------------------------------------------\n",
      "\n",
      "\n",
      "\n",
      "Best parameters configuration: {'batch_size': 4, 'epochs': 2, 'learning_rate': 5e-05, 'warmup_ratio': 0, 'weight_decay': 0}\n",
      "              precision    recall  f1-score   support\n",
      "\n",
      "           0       0.67      0.67      0.67         3\n",
      "           1       0.88      0.70      0.78        10\n",
      "           2       0.50      1.00      0.67         2\n",
      "\n",
      "    accuracy                           0.73        15\n",
      "   macro avg       0.68      0.79      0.70        15\n",
      "weighted avg       0.78      0.73      0.74        15\n",
      "\n"
     ]
    },
    {
     "data": {
      "text/html": [
       "\n",
       "    <div>\n",
       "      \n",
       "      <progress value='1' max='4' style='width:300px; height:20px; vertical-align: middle;'></progress>\n",
       "      [1/4 : < :]\n",
       "    </div>\n",
       "    "
      ],
      "text/plain": [
       "<IPython.core.display.HTML object>"
      ]
     },
     "metadata": {},
     "output_type": "display_data"
    },
    {
     "name": "stdout",
     "output_type": "stream",
     "text": [
      "              precision    recall  f1-score   support\n",
      "\n",
      "           0       0.67      0.67      0.67         3\n",
      "           1       0.88      0.70      0.78        10\n",
      "           2       0.50      1.00      0.67         2\n",
      "\n",
      "    accuracy                           0.73        15\n",
      "   macro avg       0.68      0.79      0.70        15\n",
      "weighted avg       0.78      0.73      0.74        15\n",
      "\n",
      "{'test_loss': 1.163994312286377, 'test_f1': 0.7407407407407407, 'test_precision': 0.7833333333333333, 'test_recall': 0.7333333333333333, 'test_runtime': 7.6853, 'test_samples_per_second': 1.952, 'test_steps_per_second': 0.52}\n"
     ]
    },
    {
     "ename": "FileNotFoundError",
     "evalue": "[Errno 2] No such file or directory: 'runs/GatorTron/MD'",
     "output_type": "error",
     "traceback": [
      "\u001b[0;31m---------------------------------------------------------------------------\u001b[0m",
      "\u001b[0;31mFileNotFoundError\u001b[0m                         Traceback (most recent call last)",
      "Cell \u001b[0;32mIn [10], line 101\u001b[0m\n\u001b[1;32m     98\u001b[0m \u001b[38;5;28mprint\u001b[39m(test_pred\u001b[38;5;241m.\u001b[39mmetrics)\n\u001b[1;32m    100\u001b[0m model_dir \u001b[38;5;241m=\u001b[39m \u001b[38;5;124mf\u001b[39m\u001b[38;5;124m'\u001b[39m\u001b[38;5;124mruns/GatorTron/MD\u001b[39m\u001b[38;5;124m'\u001b[39m\n\u001b[0;32m--> 101\u001b[0m \u001b[38;5;28;01mfor\u001b[39;00m d \u001b[38;5;129;01min\u001b[39;00m \u001b[43mos\u001b[49m\u001b[38;5;241;43m.\u001b[39;49m\u001b[43mlistdir\u001b[49m\u001b[43m(\u001b[49m\u001b[43mmodel_dir\u001b[49m\u001b[43m)\u001b[49m:\n\u001b[1;32m    102\u001b[0m     \u001b[38;5;66;03m# This removes the checkpoints (comment it if you want to keep them)\u001b[39;00m\n\u001b[1;32m    103\u001b[0m     \u001b[38;5;28;01mif\u001b[39;00m \u001b[38;5;124m'\u001b[39m\u001b[38;5;124mcheckpoint\u001b[39m\u001b[38;5;124m'\u001b[39m \u001b[38;5;129;01min\u001b[39;00m d:\n\u001b[1;32m    104\u001b[0m         shutil\u001b[38;5;241m.\u001b[39mrmtree(os\u001b[38;5;241m.\u001b[39mpath\u001b[38;5;241m.\u001b[39mjoin(model_dir, d))\n",
      "\u001b[0;31mFileNotFoundError\u001b[0m: [Errno 2] No such file or directory: 'runs/GatorTron/MD'"
     ]
    }
   ],
   "source": [
    "# Hyperparameters (for best configuration selection)\n",
    "# 1st evaluate the hyper parameters once at a time, and select each hyper parameter that gives you the best score on results aka F1 vs recall\n",
    "params = {\n",
    "    'batch_size': [2, 4, 6],\n",
    "    'epochs': [1, 2, 4],\n",
    "    'learning_rate': [5e-6, 1e-5, 2e-5, 5e-5, 1e-4],\n",
    "    'weight_decay': [0, 0.01, 0.1], # how much the weight change is shrinking\n",
    "    'warmup_ratio': [0, 0.01, 0.1] # ratio of examples it takes to get ready for the learning rate\n",
    "}\n",
    "\n",
    "metrics_file = f'classification_metrics_GatorTron_MD_{agreement}.csv'\n",
    "if os.path.isfile(metrics_file):\n",
    "    f = open(metrics_file, 'a')\n",
    "else:\n",
    "    f = open(metrics_file, 'w')\n",
    "    f.write('batch_size,epochs,learning_rate,weight_decay,warmup_ratio,loss,f1,precision,recall\\n')\n",
    "\n",
    "best_model = []\n",
    "best_f1 = 0.0\n",
    "tmp_trainer, tmp_comb = None, None\n",
    "for comb in list(ParameterGrid(params)):\n",
    "    print(f\"Parameters: {comb}\")\n",
    "    training_args = TrainingArguments(\n",
    "        output_dir=f'runs/MD',\n",
    "        evaluation_strategy='epoch', # every epoch the model is evaluated and checkpoint is made saving the weights\n",
    "        eval_steps=1, # check, probably each step is by epoch\n",
    "        logging_strategy='epoch',\n",
    "        weight_decay=comb['weight_decay'],\n",
    "        warmup_ratio=comb['warmup_ratio'],\n",
    "        num_train_epochs=comb['epochs'],\n",
    "        learning_rate=comb['learning_rate'],\n",
    "        per_device_train_batch_size=comb['batch_size'],\n",
    "        per_device_eval_batch_size=comb['batch_size'],\n",
    "        save_strategy='epoch',\n",
    "        load_best_model_at_end=True,\n",
    "        metric_for_best_model='eval_f1',\n",
    "        seed=seed,\n",
    "        data_seed=seed)\n",
    "    scmetrics = evaluate.load(\"../scmetrics\")\n",
    "\n",
    "    trainer = Trainer(model=model,\n",
    "                      args=training_args,\n",
    "                      callbacks=[EarlyStoppingCallback(early_stopping_patience=3)], # if loss isnt decreasing for 2 epochs then it stops training\n",
    "                      train_dataset=tkn_dt['train'],\n",
    "                      eval_dataset=tkn_dt['dev'],\n",
    "                      compute_metrics=compute_metrics,\n",
    "                      data_collator=data_collator)\n",
    "    results = trainer.train()\n",
    "    results_eval = trainer.evaluate()\n",
    "\n",
    "    v = [comb['batch_size'], comb['epochs'], comb['learning_rate'], comb['weight_decay'], comb['warmup_ratio'],\n",
    "    results.metrics['train_loss'], results_eval['eval_f1'], results_eval['eval_precision'], results_eval['eval_recall']]\n",
    "    f.write(','.join([str(el) for el in v]) + '\\n')\n",
    "\n",
    "    if results_eval['eval_f1'] > best_f1:\n",
    "        best_f1 = results_eval['eval_f1']\n",
    "        tmp_trainer = trainer\n",
    "        tmp_comb = comb\n",
    "    print('-' * 100)\n",
    "    print('\\n\\n')\n",
    "\n",
    "# Error analysis step\n",
    "labels_to_sen = {0: 'neutral', 1: 'negative', 2: 'positive'}\n",
    "if tmp_trainer is not None:\n",
    "    best_trainer = tmp_trainer\n",
    "    best_comb = tmp_comb\n",
    "    print(f'Best parameters configuration: {best_comb}')\n",
    "    dev_pred = best_trainer.predict(tkn_dt['test'])\n",
    "    pred = np.argmax(dev_pred.predictions, axis=-1)\n",
    "    pred_score = np.max(torch.nn.functional.softmax(torch.tensor(dev_pred.predictions), dim=-1).numpy(), axis=-1)\n",
    "    i = 0\n",
    "    errors = {'FP': [], 'FN': []}\n",
    "    for pred_lab, true_lab in zip(pred, dev_pred.label_ids):\n",
    "        if pred_lab != true_lab:\n",
    "            if pred_lab > 1:\n",
    "                errors['FP'].append((\n",
    "                    tokenizer.convert_tokens_to_string(tokenizer.convert_ids_to_tokens(tkn_dt['test']['input_ids'][i])),\n",
    "                    pred_score[i], labels_to_sen[pred_lab], labels_to_sen[true_lab]))\n",
    "            else:\n",
    "                errors['FN'].append((tokenizer.convert_tokens_to_string(\n",
    "                    tokenizer.convert_ids_to_tokens(tkn_dt['test']['input_ids'][i])), pred_score[i],\n",
    "                                     labels_to_sen[pred_lab], labels_to_sen[true_lab]))\n",
    "        i += 1\n",
    "    with open(f'error_analysis_GatorTron_MD_{agreement}.tsv',\n",
    "              'w') as f:\n",
    "        f.write('sentence\\tpredicted_label\\ttrue_label\\tprobability\\n')\n",
    "        for k, vect in errors.items():\n",
    "            if k == 'FP':\n",
    "                for sen in vect:\n",
    "                    f.write(sen[0] + '\\t' + f'PRED_{sen[2].upper()}' + '\\t' + f'TRUE_{sen[3].upper()}' + '\\t' + str(\n",
    "                        sen[1]) + '\\n')\n",
    "                f.write('\\n')\n",
    "            else:\n",
    "                for sen in vect:\n",
    "                    f.write(sen[0] + '\\t' + f'PRED_{sen[2].upper()}' + '\\t' + f'TRUE_{sen[3].upper()}' + '\\t' + str(\n",
    "                        sen[1]) + '\\n')\n",
    "    test_pred = best_trainer.predict(tkn_dt['test'])\n",
    "    print(test_pred.metrics)\n",
    "\n",
    "    model_dir = f'runs/GatorTron/MD'\n",
    "    for d in os.listdir(model_dir):\n",
    "        # This removes the checkpoints (comment it if you want to keep them)\n",
    "        if 'checkpoint' in d:\n",
    "            shutil.rmtree(os.path.join(model_dir, d))\n",
    "    best_trainer.save_model(\n",
    "        output_dir=f'best_model/GatorTron/MD/GatorTron_{agreement}')\n",
    "else:\n",
    "    print(\"Precision is 0.0 change something in your model's configuration and retry.\")\n",
    "f.close()"
   ]
  },
  {
   "cell_type": "code",
   "execution_count": null,
   "metadata": {
    "pycharm": {
     "name": "#%%\n"
    }
   },
   "outputs": [],
   "source": [
    "# GatorTron - MD 60%\n",
    "# best paramters: {'batch_size': 4, 'epochs': 1, 'learning_rate': 5e-05, 'warmup_ratio': 0.1, 'weight_decay': 0}\n",
    "# {'test_loss': 3.801469326019287, 'test_f1': 0.5143589743589743, 'test_precision': 0.8222222222222223, 'test_recall': 0.5333333333333333, 'test_runtime': 7.6558, 'test_samples_per_second': 1.959, 'test_steps_per_second': 0.522}\n",
    "\n",
    "# GatorTron - MD 80%\n",
    "# best ps: {'batch_size': 4, 'epochs': 1, 'learning_rate': 5e-05, 'warmup_ratio': 0.1, 'weight_decay': 0.1}\n",
    "# {'test_loss': 2.1605989933013916, 'test_f1': 0.637593984962406, 'test_precision': 0.645925925925926, 'test_recall': 0.6666666666666666, 'test_runtime': 7.6978, 'test_samples_per_second': 1.949, 'test_steps_per_second': 0.52}\n",
    "\n",
    "# Gatorton TA - MD 60%\n",
    "# {'batch_size': 4, 'epochs': 4, 'learning_rate': 5e-06, 'warmup_ratio': 0, 'weight_decay': 0}\n",
    "# 'test_loss': 2.4067065715789795, 'test_f1': 0.6928104575163399, 'test_precision': 0.7714285714285715, 'test_recall': 0.6666666666666666, 'test_runtime': 7.6263, 'test_samples_per_second': 1.967, 'test_steps_per_second': 0.524}\n",
    "\n",
    "# Gatorton TA - MD 80%"
   ]
  }
 ],
 "metadata": {
  "kernelspec": {
   "display_name": "Python 3 (ipykernel)",
   "language": "python",
   "name": "python3"
  },
  "language_info": {
   "codemirror_mode": {
    "name": "ipython",
    "version": 3
   },
   "file_extension": ".py",
   "mimetype": "text/x-python",
   "name": "python",
   "nbconvert_exporter": "python",
   "pygments_lexer": "ipython3",
   "version": "3.9.17"
  }
 },
 "nbformat": 4,
 "nbformat_minor": 4
}
